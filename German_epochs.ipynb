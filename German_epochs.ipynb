
{
 "cells": [
  {
   "cell_type": "code",
   "execution_count": 1,
   "id": "56b6ca65",
   "metadata": {},
   "outputs": [],
   "source": [
    "import pandas as pd\n",
    "import mne\n",
    "import numpy as np\n",
    "import os\n",
    "import matplotlib.pyplot as plt\n",
    "import warnings\n",
    "warnings.filterwarnings(\"ignore\")\n",
    "from openpyxl import load_workbook\n",
    "import pickle"
   ]
  },
  {
   "cell_type": "code",
   "execution_count": 2,
   "id": "04745b25",
   "metadata": {},
   "outputs": [],
   "source": [
    "pd.set_option('display.max_columns', 100)  # or 1000\n",
    "pd.set_option('display.max_rows', 100)  # or 1000\n",
    "pd.set_option('display.max_colwidth', None)  # or 199"
   ]
  },
  {
   "cell_type": "code",
   "execution_count": 3,
   "id": "09b11242",
   "metadata": {},
   "outputs": [],
   "source": [
    "# path for EEG raw data\n",
    "datapaths = ['/data/sleep_germandata_reactivation-1/']\n",
    "files=[]\n",
    "\n",
    "while datapaths:\n",
    "    # paths.pop() gets top of directory stack to process\n",
    "    # os.scandir is easier and more efficient than os.listdir\n",
    "    with os.scandir(datapaths.pop()) as entries:\n",
    "        for entry in entries:  # loop through the folder\n",
    "            #print(entry.name)  # print text to keep track the process\n",
    "            if entry.name.endswith('.fif') and '-1' not in entry.name:\n",
    "                files.append(entry.path)\n",
    "            elif entry.is_dir():  #if it is a subfolder\n",
    "                #print(entry.path, 'is dir')\n",
    "                # Add to paths stack to get to it eventually\n",
    "                datapaths.append(entry.path)"
   ]
  },
  {
   "cell_type": "code",
   "execution_count": 4,
   "id": "f35630f8",
   "metadata": {},
   "outputs": [
    {
     "data": {
      "text/plain": [
       "46"
      ]
     },
     "execution_count": 4,
     "metadata": {},
     "output_type": "execute_result"
    }
   ],
   "source": [
    "len(files)"
   ]
  },
  {
   "cell_type": "code",
   "execution_count": 5,
   "id": "84c27f97",
   "metadata": {},
   "outputs": [],
   "source": [
    "cond='sleep'\n",
    "fname=[] # data for sleep\n",
    "fname_D=[] \n",
    "fname_M=[] # control\n",
    "subjs=[]\n",
    "for file in files:\n",
    "    if cond in file:\n",
    "        fname.append(file)\n",
    "    # separate into D and M Night\n",
    "        subj=file.split('/')[-1].split('_')[1][:2]\n",
    "        night=float(file.split('/')[-1].split('_')[1][-1])\n",
    "        if float(subj) in np.arange(5,31) and night==1:\n",
    "            fname_D.append(file)\n",
    "        elif float(subj) in np.arange(5,31) and night==2:\n",
    "            fname_M.append(file)\n",
    "        elif float(subj) in np.arange(39,52) and night==2:\n",
    "            fname_D.append(file)\n",
    "        elif float(subj) in np.arange(39,52) and night==1:\n",
    "            fname_M.append(file)\n",
    "        subjs.append(subj)\n",
    "            \n",
    "subjs=list(set(subjs))"
   ]
  },
  {
   "cell_type": "code",
   "execution_count": 6,
   "id": "c6a76950",
   "metadata": {},
   "outputs": [
    {
     "name": "stdout",
     "output_type": "stream",
     "text": [
      "23\n",
      "23\n"
     ]
    }
   ],
   "source": [
    "print(len(fname_D))\n",
    "print(len(fname_M))"
   ]
  },
  {
   "cell_type": "code",
   "execution_count": 7,
   "id": "df36b22b",
   "metadata": {},
   "outputs": [],
   "source": [
    "# path for Event excel files\n",
    "datapaths = ['./Events']\n",
    "events_files=[]\n",
    "\n",
    "while datapaths:\n",
    "    # paths.pop() gets top of directory stack to process\n",
    "    # os.scandir is easier and more efficient than os.listdir\n",
    "    with os.scandir(datapaths.pop()) as entries:\n",
    "        for entry in entries:  # loop through the folder\n",
    "            #print(entry.name)  # print text to keep track the process\n",
    "            if entry.name.endswith('.xlsx'):\n",
    "                events_files.append(entry.path)\n",
    "            elif entry.is_dir():  #if it is a subfolder\n",
    "                #print(entry.path, 'is dir')\n",
    "                # Add to paths stack to get to it eventually\n",
    "                datapaths.append(entry.path)"
   ]
  },
  {
   "cell_type": "code",
   "execution_count": 8,
   "id": "845070b9",
   "metadata": {},
   "outputs": [
    {
     "data": {
      "text/plain": [
       "46"
      ]
     },
     "execution_count": 8,
     "metadata": {},
     "output_type": "execute_result"
    }
   ],
   "source": [
    "len(events_files)"
   ]
  },
  {
   "cell_type": "code",
   "execution_count": 9,
   "id": "fb6fa0d6",
   "metadata": {},
   "outputs": [],
   "source": [
    "#fname_D"
   ]
  },
  {
   "cell_type": "code",
   "execution_count": 10,
   "id": "978aabe1",
   "metadata": {},
   "outputs": [],
   "source": [
    "#fname_M"
   ]
  },
  {
   "cell_type": "markdown",
   "id": "74ce45d6",
   "metadata": {},
   "source": [
    "## Loop to load EEG, Event files and save EEG arrays"
   ]
  },
  {
   "cell_type": "code",
   "execution_count": 11,
   "id": "58ef0159",
   "metadata": {},
   "outputs": [
    {
     "name": "stderr",
     "output_type": "stream",
     "text": [
      "2024-06-28 12:45:31.783797: I tensorflow/core/platform/cpu_feature_guard.cc:194] This TensorFlow binary is optimized with oneAPI Deep Neural Network Library (oneDNN) to use the following CPU instructions in performance-critical operations:  SSE3 SSE4.1 SSE4.2 AVX\n",
      "To enable them in other operations, rebuild TensorFlow with the appropriate compiler flags.\n"
     ]
    }
   ],
   "source": [
    "from collections import defaultdict \n",
    "from tensorflow.keras.utils import to_categorical\n",
    "#from sklearn.model_selection import StratifiedKFold\n",
    "#import sys\n",
    "#sys.path.append('./arl-eegmodels')\n",
    "#from EEGModels import EEGNet\n",
    "#from sklearn.metrics import roc_auc_score\n",
    "#from sklearn.metrics import accuracy_score\n",
    "#from sklearn.metrics import f1_score\n",
    "#from sklearn.model_selection import train_test_split\n",
    "#from tensorflow.keras.callbacks import EarlyStopping"
   ]
  },
  {
   "cell_type": "code",
   "execution_count": 14,
   "id": "a5949a97",
   "metadata": {},
   "outputs": [],
   "source": [
    "folder='./eeg_sub_128_SWS/'"
   ]
  },
  {
   "cell_type": "markdown",
   "id": "ed7ff28d",
   "metadata": {},
   "source": [
    "## D night"
   ]
  },
  {
   "cell_type": "code",
   "execution_count": 15,
   "id": "f4868ed0",
   "metadata": {},
   "outputs": [
    {
     "name": "stdout",
     "output_type": "stream",
     "text": [
      " \n",
      "Subj 45:\n",
      "/data/sleep_germandata_reactivation-1/RC_452_sleep_20170622_121802.fif\n"
     ]
    },
    {
     "name": "stderr",
     "output_type": "stream",
     "text": [
      "[Parallel(n_jobs=-1)]: Using backend LokyBackend with 64 concurrent workers.\n",
      "[Parallel(n_jobs=-1)]: Done   8 tasks      | elapsed:    9.8s\n",
      "[Parallel(n_jobs=-1)]: Done 102 out of 137 | elapsed:   18.0s remaining:    6.2s\n",
      "[Parallel(n_jobs=-1)]: Done 130 out of 137 | elapsed:   20.8s remaining:    1.1s\n",
      "[Parallel(n_jobs=-1)]: Done 137 out of 137 | elapsed:   21.4s finished\n",
      "[Parallel(n_jobs=-1)]: Using backend LokyBackend with 64 concurrent workers.\n",
      "[Parallel(n_jobs=-1)]: Done   8 tasks      | elapsed:    0.5s\n",
      "[Parallel(n_jobs=-1)]: Done 102 out of 137 | elapsed:    4.3s remaining:    1.5s\n",
      "[Parallel(n_jobs=-1)]: Done 130 out of 137 | elapsed:    5.2s remaining:    0.3s\n",
      "[Parallel(n_jobs=-1)]: Done 137 out of 137 | elapsed:    5.4s finished\n",
      "[Parallel(n_jobs=-1)]: Using backend LokyBackend with 64 concurrent workers.\n",
      "[Parallel(n_jobs=-1)]: Done   8 tasks      | elapsed:    0.3s\n",
      "[Parallel(n_jobs=-1)]: Done  92 out of 129 | elapsed:    1.3s remaining:    0.5s\n",
      "[Parallel(n_jobs=-1)]: Done 118 out of 129 | elapsed:    1.4s remaining:    0.1s\n",
      "[Parallel(n_jobs=-1)]: Done 129 out of 129 | elapsed:    1.5s finished\n"
     ]
    },
    {
     "name": "stdout",
     "output_type": "stream",
     "text": [
      "./Events/RC_452.xlsx\n",
      "(40, 128, 897)\n",
      " \n",
      "Subj 46:\n",
      "/data/sleep_germandata_reactivation-1/RC_462_sleep_20170630_120717.fif\n"
     ]
    },
    {
     "name": "stderr",
     "output_type": "stream",
     "text": [
      "[Parallel(n_jobs=-1)]: Using backend LokyBackend with 64 concurrent workers.\n",
      "[Parallel(n_jobs=-1)]: Done   8 tasks      | elapsed:    1.0s\n",
      "[Parallel(n_jobs=-1)]: Done 102 out of 137 | elapsed:   10.0s remaining:    3.4s\n",
      "[Parallel(n_jobs=-1)]: Done 130 out of 137 | elapsed:   12.6s remaining:    0.7s\n",
      "[Parallel(n_jobs=-1)]: Done 137 out of 137 | elapsed:   13.1s finished\n",
      "[Parallel(n_jobs=-1)]: Using backend LokyBackend with 64 concurrent workers.\n",
      "[Parallel(n_jobs=-1)]: Done   8 tasks      | elapsed:    0.1s\n",
      "[Parallel(n_jobs=-1)]: Done 102 out of 137 | elapsed:    0.4s remaining:    0.1s\n",
      "[Parallel(n_jobs=-1)]: Done 130 out of 137 | elapsed:    0.5s remaining:    0.0s\n",
      "[Parallel(n_jobs=-1)]: Done 137 out of 137 | elapsed:    0.6s finished\n",
      "[Parallel(n_jobs=-1)]: Using backend LokyBackend with 64 concurrent workers.\n",
      "[Parallel(n_jobs=-1)]: Done   8 tasks      | elapsed:    0.1s\n",
      "[Parallel(n_jobs=-1)]: Done  92 out of 129 | elapsed:    0.7s remaining:    0.3s\n",
      "[Parallel(n_jobs=-1)]: Done 118 out of 129 | elapsed:    0.9s remaining:    0.1s\n",
      "[Parallel(n_jobs=-1)]: Done 129 out of 129 | elapsed:    0.9s finished\n"
     ]
    },
    {
     "name": "stdout",
     "output_type": "stream",
     "text": [
      "./Events/RC_462.xlsx\n",
      "(54, 128, 897)\n",
      " \n",
      "Subj 48:\n",
      "/data/sleep_germandata_reactivation-1/RC_482_sleep_20170725_115657.fif\n"
     ]
    },
    {
     "name": "stderr",
     "output_type": "stream",
     "text": [
      "[Parallel(n_jobs=-1)]: Using backend LokyBackend with 64 concurrent workers.\n",
      "[Parallel(n_jobs=-1)]: Done   8 tasks      | elapsed:    0.9s\n",
      "[Parallel(n_jobs=-1)]: Done 102 out of 137 | elapsed:    9.1s remaining:    3.1s\n",
      "[Parallel(n_jobs=-1)]: Done 130 out of 137 | elapsed:   11.6s remaining:    0.6s\n",
      "[Parallel(n_jobs=-1)]: Done 137 out of 137 | elapsed:   12.1s finished\n",
      "[Parallel(n_jobs=-1)]: Using backend LokyBackend with 64 concurrent workers.\n",
      "[Parallel(n_jobs=-1)]: Done   8 tasks      | elapsed:    0.1s\n",
      "[Parallel(n_jobs=-1)]: Done  92 out of 129 | elapsed:    0.7s remaining:    0.3s\n",
      "[Parallel(n_jobs=-1)]: Done 118 out of 129 | elapsed:    0.8s remaining:    0.1s\n",
      "[Parallel(n_jobs=-1)]: Done 129 out of 129 | elapsed:    0.9s finished\n"
     ]
    },
    {
     "name": "stdout",
     "output_type": "stream",
     "text": [
      "./Events/RC_482.xlsx\n",
      "(62, 128, 897)\n",
      " \n",
      "Subj 12:\n",
      "/data/sleep_germandata_reactivation-1/RC_121_sleep_20160615_121753.fif\n"
     ]
    },
    {
     "name": "stderr",
     "output_type": "stream",
     "text": [
      "[Parallel(n_jobs=-1)]: Using backend LokyBackend with 64 concurrent workers.\n",
      "[Parallel(n_jobs=-1)]: Done   8 tasks      | elapsed:    1.0s\n",
      "[Parallel(n_jobs=-1)]: Done 103 out of 138 | elapsed:    9.3s remaining:    3.1s\n",
      "[Parallel(n_jobs=-1)]: Done 131 out of 138 | elapsed:   11.7s remaining:    0.6s\n",
      "[Parallel(n_jobs=-1)]: Done 138 out of 138 | elapsed:   12.3s finished\n",
      "[Parallel(n_jobs=-1)]: Using backend LokyBackend with 64 concurrent workers.\n",
      "[Parallel(n_jobs=-1)]: Done   8 tasks      | elapsed:    0.4s\n",
      "[Parallel(n_jobs=-1)]: Done 103 out of 138 | elapsed:    4.3s remaining:    1.5s\n",
      "[Parallel(n_jobs=-1)]: Done 131 out of 138 | elapsed:    5.5s remaining:    0.3s\n",
      "[Parallel(n_jobs=-1)]: Done 138 out of 138 | elapsed:    5.8s finished\n",
      "[Parallel(n_jobs=-1)]: Using backend LokyBackend with 64 concurrent workers.\n",
      "[Parallel(n_jobs=-1)]: Done   8 tasks      | elapsed:    0.1s\n",
      "[Parallel(n_jobs=-1)]: Done  92 out of 129 | elapsed:    1.0s remaining:    0.4s\n",
      "[Parallel(n_jobs=-1)]: Done 118 out of 129 | elapsed:    1.2s remaining:    0.1s\n",
      "[Parallel(n_jobs=-1)]: Done 129 out of 129 | elapsed:    1.4s finished\n"
     ]
    },
    {
     "name": "stdout",
     "output_type": "stream",
     "text": [
      "./Events/RC_121.xlsx\n",
      "(42, 128, 897)\n",
      " \n",
      "Subj 28:\n",
      "/data/sleep_germandata_reactivation-1/RC_281_sleep_20161023_121226.fif\n"
     ]
    },
    {
     "name": "stderr",
     "output_type": "stream",
     "text": [
      "[Parallel(n_jobs=-1)]: Using backend LokyBackend with 64 concurrent workers.\n",
      "[Parallel(n_jobs=-1)]: Done   8 tasks      | elapsed:    1.0s\n",
      "[Parallel(n_jobs=-1)]: Done 103 out of 138 | elapsed:    9.3s remaining:    3.2s\n",
      "[Parallel(n_jobs=-1)]: Done 131 out of 138 | elapsed:   11.7s remaining:    0.6s\n",
      "[Parallel(n_jobs=-1)]: Done 138 out of 138 | elapsed:   12.4s finished\n",
      "[Parallel(n_jobs=-1)]: Using backend LokyBackend with 64 concurrent workers.\n",
      "[Parallel(n_jobs=-1)]: Done   8 tasks      | elapsed:    0.1s\n",
      "[Parallel(n_jobs=-1)]: Done 103 out of 138 | elapsed:    0.8s remaining:    0.3s\n",
      "[Parallel(n_jobs=-1)]: Done 131 out of 138 | elapsed:    1.0s remaining:    0.1s\n",
      "[Parallel(n_jobs=-1)]: Done 138 out of 138 | elapsed:    1.0s finished\n",
      "[Parallel(n_jobs=-1)]: Using backend LokyBackend with 64 concurrent workers.\n",
      "[Parallel(n_jobs=-1)]: Done   8 tasks      | elapsed:    0.1s\n",
      "[Parallel(n_jobs=-1)]: Done  92 out of 129 | elapsed:    0.7s remaining:    0.3s\n",
      "[Parallel(n_jobs=-1)]: Done 118 out of 129 | elapsed:    0.9s remaining:    0.1s\n",
      "[Parallel(n_jobs=-1)]: Done 129 out of 129 | elapsed:    0.9s finished\n"
     ]
    },
    {
     "name": "stdout",
     "output_type": "stream",
     "text": [
      "./Events/RC_281.xlsx\n",
      "(78, 128, 897)\n",
      " \n",
      "Subj 24:\n",
      "/data/sleep_germandata_reactivation-1/RC_241_sleep_20160912_114256.fif\n"
     ]
    },
    {
     "name": "stderr",
     "output_type": "stream",
     "text": [
      "[Parallel(n_jobs=-1)]: Using backend LokyBackend with 64 concurrent workers.\n",
      "[Parallel(n_jobs=-1)]: Done   8 tasks      | elapsed:    0.9s\n",
      "[Parallel(n_jobs=-1)]: Done 102 out of 137 | elapsed:    9.7s remaining:    3.3s\n",
      "[Parallel(n_jobs=-1)]: Done 130 out of 137 | elapsed:   12.2s remaining:    0.7s\n",
      "[Parallel(n_jobs=-1)]: Done 137 out of 137 | elapsed:   12.8s finished\n",
      "[Parallel(n_jobs=-1)]: Using backend LokyBackend with 64 concurrent workers.\n",
      "[Parallel(n_jobs=-1)]: Done   8 tasks      | elapsed:    0.6s\n",
      "[Parallel(n_jobs=-1)]: Done 102 out of 137 | elapsed:    5.8s remaining:    2.0s\n",
      "[Parallel(n_jobs=-1)]: Done 130 out of 137 | elapsed:    7.4s remaining:    0.4s\n",
      "[Parallel(n_jobs=-1)]: Done 137 out of 137 | elapsed:    7.8s finished\n",
      "[Parallel(n_jobs=-1)]: Using backend LokyBackend with 64 concurrent workers.\n",
      "[Parallel(n_jobs=-1)]: Done   8 tasks      | elapsed:    0.1s\n",
      "[Parallel(n_jobs=-1)]: Done  92 out of 129 | elapsed:    1.0s remaining:    0.4s\n",
      "[Parallel(n_jobs=-1)]: Done 118 out of 129 | elapsed:    1.3s remaining:    0.1s\n",
      "[Parallel(n_jobs=-1)]: Done 129 out of 129 | elapsed:    1.5s finished\n"
     ]
    },
    {
     "name": "stdout",
     "output_type": "stream",
     "text": [
      "./Events/RC_241.xlsx\n",
      "(58, 128, 897)\n",
      " \n",
      "Subj 20:\n",
      "/data/sleep_germandata_reactivation-1/RC_201_sleep_20160816_121934.fif\n"
     ]
    },
    {
     "name": "stderr",
     "output_type": "stream",
     "text": [
      "[Parallel(n_jobs=-1)]: Using backend LokyBackend with 64 concurrent workers.\n",
      "[Parallel(n_jobs=-1)]: Done   8 tasks      | elapsed:    0.9s\n",
      "[Parallel(n_jobs=-1)]: Done 102 out of 137 | elapsed:    9.4s remaining:    3.2s\n",
      "[Parallel(n_jobs=-1)]: Done 130 out of 137 | elapsed:   12.1s remaining:    0.6s\n",
      "[Parallel(n_jobs=-1)]: Done 137 out of 137 | elapsed:   12.6s finished\n",
      "[Parallel(n_jobs=-1)]: Using backend LokyBackend with 64 concurrent workers.\n",
      "[Parallel(n_jobs=-1)]: Done   8 tasks      | elapsed:    0.1s\n",
      "[Parallel(n_jobs=-1)]: Done 102 out of 137 | elapsed:    0.8s remaining:    0.3s\n",
      "[Parallel(n_jobs=-1)]: Done 130 out of 137 | elapsed:    1.0s remaining:    0.1s\n",
      "[Parallel(n_jobs=-1)]: Done 137 out of 137 | elapsed:    1.0s finished\n",
      "[Parallel(n_jobs=-1)]: Using backend LokyBackend with 64 concurrent workers.\n",
      "[Parallel(n_jobs=-1)]: Done   8 tasks      | elapsed:    0.1s\n",
      "[Parallel(n_jobs=-1)]: Done  92 out of 129 | elapsed:    0.6s remaining:    0.2s\n",
      "[Parallel(n_jobs=-1)]: Done 118 out of 129 | elapsed:    0.7s remaining:    0.1s\n",
      "[Parallel(n_jobs=-1)]: Done 129 out of 129 | elapsed:    0.8s finished\n"
     ]
    },
    {
     "name": "stdout",
     "output_type": "stream",
     "text": [
      "./Events/RC_201.xlsx\n",
      "(74, 128, 897)\n",
      " \n",
      "Subj 16:\n",
      "/data/sleep_germandata_reactivation-1/RC_161_sleep_20160623_113800.fif\n"
     ]
    },
    {
     "name": "stderr",
     "output_type": "stream",
     "text": [
      "[Parallel(n_jobs=-1)]: Using backend LokyBackend with 64 concurrent workers.\n",
      "[Parallel(n_jobs=-1)]: Done   8 tasks      | elapsed:    0.8s\n",
      "[Parallel(n_jobs=-1)]: Done 102 out of 137 | elapsed:    8.4s remaining:    2.9s\n",
      "[Parallel(n_jobs=-1)]: Done 130 out of 137 | elapsed:   10.5s remaining:    0.6s\n",
      "[Parallel(n_jobs=-1)]: Done 137 out of 137 | elapsed:   11.1s finished\n",
      "[Parallel(n_jobs=-1)]: Using backend LokyBackend with 64 concurrent workers.\n",
      "[Parallel(n_jobs=-1)]: Done   8 tasks      | elapsed:    0.1s\n",
      "[Parallel(n_jobs=-1)]: Done  92 out of 129 | elapsed:    0.5s remaining:    0.2s\n",
      "[Parallel(n_jobs=-1)]: Done 118 out of 129 | elapsed:    0.6s remaining:    0.1s\n",
      "[Parallel(n_jobs=-1)]: Done 129 out of 129 | elapsed:    0.7s finished\n"
     ]
    },
    {
     "name": "stdout",
     "output_type": "stream",
     "text": [
      "./Events/RC_161.xlsx\n",
      "(66, 128, 897)\n",
      " \n",
      "Subj 05:\n",
      "/data/sleep_germandata_reactivation-1/RC_051_sleep_20160511_010544.fif\n"
     ]
    },
    {
     "name": "stderr",
     "output_type": "stream",
     "text": [
      "[Parallel(n_jobs=-1)]: Using backend LokyBackend with 64 concurrent workers.\n",
      "[Parallel(n_jobs=-1)]: Done   8 tasks      | elapsed:    0.9s\n",
      "[Parallel(n_jobs=-1)]: Done 102 out of 137 | elapsed:    8.2s remaining:    2.8s\n",
      "[Parallel(n_jobs=-1)]: Done 130 out of 137 | elapsed:   10.6s remaining:    0.6s\n",
      "[Parallel(n_jobs=-1)]: Done 137 out of 137 | elapsed:   11.1s finished\n",
      "[Parallel(n_jobs=-1)]: Using backend LokyBackend with 64 concurrent workers.\n",
      "[Parallel(n_jobs=-1)]: Done   8 tasks      | elapsed:    0.1s\n",
      "[Parallel(n_jobs=-1)]: Done  92 out of 129 | elapsed:    0.5s remaining:    0.2s\n",
      "[Parallel(n_jobs=-1)]: Done 118 out of 129 | elapsed:    0.6s remaining:    0.1s\n",
      "[Parallel(n_jobs=-1)]: Done 129 out of 129 | elapsed:    0.7s finished\n"
     ]
    },
    {
     "name": "stdout",
     "output_type": "stream",
     "text": [
      "./Events/RC_051.xlsx\n",
      "(60, 128, 897)\n",
      " \n",
      "Subj 30:\n",
      "/data/sleep_germandata_reactivation-1/RC_301_sleep_20161007_113631.fif\n"
     ]
    },
    {
     "name": "stderr",
     "output_type": "stream",
     "text": [
      "[Parallel(n_jobs=-1)]: Using backend LokyBackend with 64 concurrent workers.\n",
      "[Parallel(n_jobs=-1)]: Done   8 tasks      | elapsed:    0.9s\n",
      "[Parallel(n_jobs=-1)]: Done 102 out of 137 | elapsed:    8.4s remaining:    2.9s\n",
      "[Parallel(n_jobs=-1)]: Done 130 out of 137 | elapsed:   10.7s remaining:    0.6s\n",
      "[Parallel(n_jobs=-1)]: Done 137 out of 137 | elapsed:   11.4s finished\n",
      "[Parallel(n_jobs=-1)]: Using backend LokyBackend with 64 concurrent workers.\n",
      "[Parallel(n_jobs=-1)]: Done   8 tasks      | elapsed:    0.1s\n",
      "[Parallel(n_jobs=-1)]: Done  92 out of 129 | elapsed:    0.5s remaining:    0.2s\n",
      "[Parallel(n_jobs=-1)]: Done 118 out of 129 | elapsed:    0.7s remaining:    0.1s\n",
      "[Parallel(n_jobs=-1)]: Done 129 out of 129 | elapsed:    0.8s finished\n"
     ]
    },
    {
     "name": "stdout",
     "output_type": "stream",
     "text": [
      "./Events/RC_301.xlsx\n",
      "(48, 128, 897)\n",
      " \n",
      "Subj 44:\n",
      "/data/sleep_germandata_reactivation-1/RC_442_sleep_20170609_115501.fif\n"
     ]
    },
    {
     "name": "stderr",
     "output_type": "stream",
     "text": [
      "[Parallel(n_jobs=-1)]: Using backend LokyBackend with 64 concurrent workers.\n",
      "[Parallel(n_jobs=-1)]: Done   8 tasks      | elapsed:    0.9s\n",
      "[Parallel(n_jobs=-1)]: Done 101 out of 136 | elapsed:    8.7s remaining:    3.0s\n",
      "[Parallel(n_jobs=-1)]: Done 129 out of 136 | elapsed:   10.9s remaining:    0.6s\n",
      "[Parallel(n_jobs=-1)]: Done 136 out of 136 | elapsed:   11.4s finished\n",
      "[Parallel(n_jobs=-1)]: Using backend LokyBackend with 64 concurrent workers.\n",
      "[Parallel(n_jobs=-1)]: Done   8 tasks      | elapsed:    0.1s\n",
      "[Parallel(n_jobs=-1)]: Done  92 out of 129 | elapsed:    0.5s remaining:    0.2s\n",
      "[Parallel(n_jobs=-1)]: Done 118 out of 129 | elapsed:    0.7s remaining:    0.1s\n",
      "[Parallel(n_jobs=-1)]: Done 129 out of 129 | elapsed:    0.7s finished\n"
     ]
    },
    {
     "name": "stdout",
     "output_type": "stream",
     "text": [
      "./Events/RC_442.xlsx\n",
      "(60, 128, 897)\n",
      " \n",
      "Subj 29:\n",
      "/data/sleep_germandata_reactivation-1/RC_291_sleep_20161010_115611.fif\n"
     ]
    },
    {
     "name": "stderr",
     "output_type": "stream",
     "text": [
      "[Parallel(n_jobs=-1)]: Using backend LokyBackend with 64 concurrent workers.\n",
      "[Parallel(n_jobs=-1)]: Done   8 tasks      | elapsed:    0.9s\n",
      "[Parallel(n_jobs=-1)]: Done 102 out of 137 | elapsed:    8.8s remaining:    3.0s\n",
      "[Parallel(n_jobs=-1)]: Done 130 out of 137 | elapsed:   11.2s remaining:    0.6s\n",
      "[Parallel(n_jobs=-1)]: Done 137 out of 137 | elapsed:   11.8s finished\n",
      "[Parallel(n_jobs=-1)]: Using backend LokyBackend with 64 concurrent workers.\n",
      "[Parallel(n_jobs=-1)]: Done   8 tasks      | elapsed:    0.1s\n",
      "[Parallel(n_jobs=-1)]: Done  92 out of 129 | elapsed:    0.5s remaining:    0.2s\n",
      "[Parallel(n_jobs=-1)]: Done 118 out of 129 | elapsed:    0.6s remaining:    0.1s\n",
      "[Parallel(n_jobs=-1)]: Done 129 out of 129 | elapsed:    0.6s finished\n"
     ]
    },
    {
     "name": "stdout",
     "output_type": "stream",
     "text": [
      "./Events/RC_291.xlsx\n",
      "(54, 128, 897)\n",
      " \n",
      "Subj 47:\n",
      "/data/sleep_germandata_reactivation-1/RC_472_sleep_20170705_120220.fif\n"
     ]
    },
    {
     "name": "stderr",
     "output_type": "stream",
     "text": [
      "[Parallel(n_jobs=-1)]: Using backend LokyBackend with 64 concurrent workers.\n",
      "[Parallel(n_jobs=-1)]: Done   8 tasks      | elapsed:    0.9s\n",
      "[Parallel(n_jobs=-1)]: Done 102 out of 137 | elapsed:    8.2s remaining:    2.8s\n",
      "[Parallel(n_jobs=-1)]: Done 130 out of 137 | elapsed:   10.4s remaining:    0.6s\n",
      "[Parallel(n_jobs=-1)]: Done 137 out of 137 | elapsed:   10.9s finished\n",
      "[Parallel(n_jobs=-1)]: Using backend LokyBackend with 64 concurrent workers.\n",
      "[Parallel(n_jobs=-1)]: Done   8 tasks      | elapsed:    0.1s\n",
      "[Parallel(n_jobs=-1)]: Done  92 out of 129 | elapsed:    0.5s remaining:    0.2s\n",
      "[Parallel(n_jobs=-1)]: Done 118 out of 129 | elapsed:    0.7s remaining:    0.1s\n",
      "[Parallel(n_jobs=-1)]: Done 129 out of 129 | elapsed:    0.7s finished\n"
     ]
    },
    {
     "name": "stdout",
     "output_type": "stream",
     "text": [
      "./Events/RC_472.xlsx\n",
      "(78, 128, 897)\n",
      " \n",
      "Subj 41:\n",
      "/data/sleep_germandata_reactivation-1/RC_412_sleep_20170508_121115.fif\n"
     ]
    },
    {
     "name": "stderr",
     "output_type": "stream",
     "text": [
      "[Parallel(n_jobs=-1)]: Using backend LokyBackend with 64 concurrent workers.\n",
      "[Parallel(n_jobs=-1)]: Done   8 tasks      | elapsed:    0.8s\n",
      "[Parallel(n_jobs=-1)]: Done 102 out of 137 | elapsed:    7.8s remaining:    2.7s\n",
      "[Parallel(n_jobs=-1)]: Done 130 out of 137 | elapsed:    9.9s remaining:    0.5s\n",
      "[Parallel(n_jobs=-1)]: Done 137 out of 137 | elapsed:   10.4s finished\n",
      "[Parallel(n_jobs=-1)]: Using backend LokyBackend with 64 concurrent workers.\n",
      "[Parallel(n_jobs=-1)]: Done   8 tasks      | elapsed:    0.1s\n",
      "[Parallel(n_jobs=-1)]: Done  92 out of 129 | elapsed:    0.5s remaining:    0.2s\n",
      "[Parallel(n_jobs=-1)]: Done 118 out of 129 | elapsed:    0.6s remaining:    0.1s\n",
      "[Parallel(n_jobs=-1)]: Done 129 out of 129 | elapsed:    0.7s finished\n"
     ]
    },
    {
     "name": "stdout",
     "output_type": "stream",
     "text": [
      "./Events/RC_412.xlsx\n",
      "(54, 128, 897)\n",
      " \n",
      "Subj 09:\n",
      "/data/sleep_germandata_reactivation-1/RC_091_sleep_20160803_112534.fif\n"
     ]
    },
    {
     "name": "stderr",
     "output_type": "stream",
     "text": [
      "[Parallel(n_jobs=-1)]: Using backend LokyBackend with 64 concurrent workers.\n",
      "[Parallel(n_jobs=-1)]: Done   8 tasks      | elapsed:    0.9s\n",
      "[Parallel(n_jobs=-1)]: Done 102 out of 137 | elapsed:    9.1s remaining:    3.1s\n",
      "[Parallel(n_jobs=-1)]: Done 130 out of 137 | elapsed:   11.4s remaining:    0.6s\n",
      "[Parallel(n_jobs=-1)]: Done 137 out of 137 | elapsed:   11.9s finished\n",
      "[Parallel(n_jobs=-1)]: Using backend LokyBackend with 64 concurrent workers.\n",
      "[Parallel(n_jobs=-1)]: Done   8 tasks      | elapsed:    0.8s\n",
      "[Parallel(n_jobs=-1)]: Done 102 out of 137 | elapsed:    7.7s remaining:    2.6s\n",
      "[Parallel(n_jobs=-1)]: Done 130 out of 137 | elapsed:    9.7s remaining:    0.5s\n",
      "[Parallel(n_jobs=-1)]: Done 137 out of 137 | elapsed:   10.2s finished\n",
      "[Parallel(n_jobs=-1)]: Using backend LokyBackend with 64 concurrent workers.\n",
      "[Parallel(n_jobs=-1)]: Done   8 tasks      | elapsed:    0.1s\n",
      "[Parallel(n_jobs=-1)]: Done  92 out of 129 | elapsed:    1.1s remaining:    0.4s\n",
      "[Parallel(n_jobs=-1)]: Done 118 out of 129 | elapsed:    1.4s remaining:    0.1s\n",
      "[Parallel(n_jobs=-1)]: Done 129 out of 129 | elapsed:    1.5s finished\n"
     ]
    },
    {
     "name": "stdout",
     "output_type": "stream",
     "text": [
      "./Events/RC_091.xlsx\n",
      "(44, 128, 897)\n",
      " \n",
      "Subj 49:\n",
      "/data/sleep_germandata_reactivation-1/RC_492_sleep_20170706_121345.fif\n"
     ]
    },
    {
     "name": "stderr",
     "output_type": "stream",
     "text": [
      "[Parallel(n_jobs=-1)]: Using backend LokyBackend with 64 concurrent workers.\n",
      "[Parallel(n_jobs=-1)]: Done   8 tasks      | elapsed:    0.8s\n",
      "[Parallel(n_jobs=-1)]: Done 102 out of 137 | elapsed:    8.6s remaining:    3.0s\n",
      "[Parallel(n_jobs=-1)]: Done 130 out of 137 | elapsed:   11.1s remaining:    0.6s\n",
      "[Parallel(n_jobs=-1)]: Done 137 out of 137 | elapsed:   11.7s finished\n",
      "[Parallel(n_jobs=-1)]: Using backend LokyBackend with 64 concurrent workers.\n",
      "[Parallel(n_jobs=-1)]: Done   8 tasks      | elapsed:    0.1s\n",
      "[Parallel(n_jobs=-1)]: Done  92 out of 129 | elapsed:    0.6s remaining:    0.2s\n",
      "[Parallel(n_jobs=-1)]: Done 118 out of 129 | elapsed:    0.8s remaining:    0.1s\n",
      "[Parallel(n_jobs=-1)]: Done 129 out of 129 | elapsed:    0.8s finished\n"
     ]
    },
    {
     "name": "stdout",
     "output_type": "stream",
     "text": [
      "./Events/RC_492.xlsx\n",
      "(64, 128, 897)\n",
      " \n",
      "Subj 17:\n",
      "/data/sleep_germandata_reactivation-1/RC_171_sleep_20160719_113818.fif\n"
     ]
    },
    {
     "name": "stderr",
     "output_type": "stream",
     "text": [
      "[Parallel(n_jobs=-1)]: Using backend LokyBackend with 64 concurrent workers.\n",
      "[Parallel(n_jobs=-1)]: Done   8 tasks      | elapsed:    0.9s\n",
      "[Parallel(n_jobs=-1)]: Done 102 out of 137 | elapsed:    9.3s remaining:    3.2s\n",
      "[Parallel(n_jobs=-1)]: Done 130 out of 137 | elapsed:   11.8s remaining:    0.6s\n",
      "[Parallel(n_jobs=-1)]: Done 137 out of 137 | elapsed:   12.3s finished\n",
      "[Parallel(n_jobs=-1)]: Using backend LokyBackend with 64 concurrent workers.\n",
      "[Parallel(n_jobs=-1)]: Done   8 tasks      | elapsed:    0.1s\n",
      "[Parallel(n_jobs=-1)]: Done  92 out of 129 | elapsed:    0.6s remaining:    0.3s\n",
      "[Parallel(n_jobs=-1)]: Done 118 out of 129 | elapsed:    0.8s remaining:    0.1s\n",
      "[Parallel(n_jobs=-1)]: Done 129 out of 129 | elapsed:    0.9s finished\n"
     ]
    },
    {
     "name": "stdout",
     "output_type": "stream",
     "text": [
      "./Events/RC_171.xlsx\n",
      "(46, 128, 897)\n",
      " \n",
      "Subj 13:\n",
      "/data/sleep_germandata_reactivation-1/RC_131_sleep_20160712_115448.fif\n"
     ]
    },
    {
     "name": "stderr",
     "output_type": "stream",
     "text": [
      "[Parallel(n_jobs=-1)]: Using backend LokyBackend with 64 concurrent workers.\n",
      "[Parallel(n_jobs=-1)]: Done   8 tasks      | elapsed:    1.0s\n",
      "[Parallel(n_jobs=-1)]: Done 102 out of 137 | elapsed:    9.3s remaining:    3.2s\n",
      "[Parallel(n_jobs=-1)]: Done 130 out of 137 | elapsed:   11.8s remaining:    0.6s\n",
      "[Parallel(n_jobs=-1)]: Done 137 out of 137 | elapsed:   12.4s finished\n",
      "[Parallel(n_jobs=-1)]: Using backend LokyBackend with 64 concurrent workers.\n",
      "[Parallel(n_jobs=-1)]: Done   8 tasks      | elapsed:    0.3s\n",
      "[Parallel(n_jobs=-1)]: Done 102 out of 137 | elapsed:    2.4s remaining:    0.8s\n",
      "[Parallel(n_jobs=-1)]: Done 130 out of 137 | elapsed:    3.2s remaining:    0.2s\n",
      "[Parallel(n_jobs=-1)]: Done 137 out of 137 | elapsed:    3.4s finished\n",
      "[Parallel(n_jobs=-1)]: Using backend LokyBackend with 64 concurrent workers.\n",
      "[Parallel(n_jobs=-1)]: Done   8 tasks      | elapsed:    0.1s\n",
      "[Parallel(n_jobs=-1)]: Done  92 out of 129 | elapsed:    0.8s remaining:    0.3s\n",
      "[Parallel(n_jobs=-1)]: Done 118 out of 129 | elapsed:    1.1s remaining:    0.1s\n",
      "[Parallel(n_jobs=-1)]: Done 129 out of 129 | elapsed:    1.2s finished\n"
     ]
    },
    {
     "name": "stdout",
     "output_type": "stream",
     "text": [
      "./Events/RC_131.xlsx\n",
      "(38, 128, 897)\n",
      " \n",
      "Subj 51:\n",
      "/data/sleep_germandata_reactivation-1/RC_512_sleep_20170728_125640.fif\n"
     ]
    },
    {
     "name": "stderr",
     "output_type": "stream",
     "text": [
      "[Parallel(n_jobs=-1)]: Using backend LokyBackend with 64 concurrent workers.\n",
      "[Parallel(n_jobs=-1)]: Done   8 tasks      | elapsed:    0.9s\n",
      "[Parallel(n_jobs=-1)]: Done 102 out of 137 | elapsed:   10.1s remaining:    3.5s\n",
      "[Parallel(n_jobs=-1)]: Done 130 out of 137 | elapsed:   12.9s remaining:    0.7s\n",
      "[Parallel(n_jobs=-1)]: Done 137 out of 137 | elapsed:   13.6s finished\n",
      "[Parallel(n_jobs=-1)]: Using backend LokyBackend with 64 concurrent workers.\n",
      "[Parallel(n_jobs=-1)]: Done   8 tasks      | elapsed:    0.2s\n",
      "[Parallel(n_jobs=-1)]: Done 102 out of 137 | elapsed:    1.3s remaining:    0.4s\n",
      "[Parallel(n_jobs=-1)]: Done 130 out of 137 | elapsed:    1.6s remaining:    0.1s\n",
      "[Parallel(n_jobs=-1)]: Done 137 out of 137 | elapsed:    1.7s finished\n",
      "[Parallel(n_jobs=-1)]: Using backend LokyBackend with 64 concurrent workers.\n",
      "[Parallel(n_jobs=-1)]: Done   8 tasks      | elapsed:    0.1s\n",
      "[Parallel(n_jobs=-1)]: Done  92 out of 129 | elapsed:    0.8s remaining:    0.3s\n",
      "[Parallel(n_jobs=-1)]: Done 118 out of 129 | elapsed:    1.0s remaining:    0.1s\n",
      "[Parallel(n_jobs=-1)]: Done 129 out of 129 | elapsed:    1.1s finished\n"
     ]
    },
    {
     "name": "stdout",
     "output_type": "stream",
     "text": [
      "./Events/RC_512.xlsx\n",
      "(72, 128, 897)\n",
      " \n",
      "Subj 26:\n",
      "/data/sleep_germandata_reactivation-1/RC_261_sleep_20160908_114753.fif\n"
     ]
    },
    {
     "name": "stderr",
     "output_type": "stream",
     "text": [
      "[Parallel(n_jobs=-1)]: Using backend LokyBackend with 64 concurrent workers.\n",
      "[Parallel(n_jobs=-1)]: Done   8 tasks      | elapsed:    1.0s\n",
      "[Parallel(n_jobs=-1)]: Done 102 out of 137 | elapsed:   10.1s remaining:    3.5s\n",
      "[Parallel(n_jobs=-1)]: Done 130 out of 137 | elapsed:   12.7s remaining:    0.7s\n",
      "[Parallel(n_jobs=-1)]: Done 137 out of 137 | elapsed:   13.4s finished\n",
      "[Parallel(n_jobs=-1)]: Using backend LokyBackend with 64 concurrent workers.\n",
      "[Parallel(n_jobs=-1)]: Done   8 tasks      | elapsed:    0.1s\n",
      "[Parallel(n_jobs=-1)]: Done 102 out of 137 | elapsed:    0.7s remaining:    0.3s\n",
      "[Parallel(n_jobs=-1)]: Done 130 out of 137 | elapsed:    0.9s remaining:    0.0s\n",
      "[Parallel(n_jobs=-1)]: Done 137 out of 137 | elapsed:    1.0s finished\n",
      "[Parallel(n_jobs=-1)]: Using backend LokyBackend with 64 concurrent workers.\n",
      "[Parallel(n_jobs=-1)]: Done   8 tasks      | elapsed:    0.1s\n",
      "[Parallel(n_jobs=-1)]: Done  92 out of 129 | elapsed:    0.6s remaining:    0.3s\n",
      "[Parallel(n_jobs=-1)]: Done 118 out of 129 | elapsed:    0.8s remaining:    0.1s\n",
      "[Parallel(n_jobs=-1)]: Done 129 out of 129 | elapsed:    0.9s finished\n"
     ]
    },
    {
     "name": "stdout",
     "output_type": "stream",
     "text": [
      "./Events/RC_261.xlsx\n",
      "(46, 128, 897)\n",
      " \n",
      "Subj 25:\n",
      "/data/sleep_germandata_reactivation-1/RC_251_sleep_20160911_115624.fif\n"
     ]
    },
    {
     "name": "stderr",
     "output_type": "stream",
     "text": [
      "[Parallel(n_jobs=-1)]: Using backend LokyBackend with 64 concurrent workers.\n",
      "[Parallel(n_jobs=-1)]: Done   8 tasks      | elapsed:    1.0s\n",
      "[Parallel(n_jobs=-1)]: Done 102 out of 137 | elapsed:    9.5s remaining:    3.3s\n",
      "[Parallel(n_jobs=-1)]: Done 130 out of 137 | elapsed:   12.1s remaining:    0.7s\n",
      "[Parallel(n_jobs=-1)]: Done 137 out of 137 | elapsed:   12.7s finished\n",
      "[Parallel(n_jobs=-1)]: Using backend LokyBackend with 64 concurrent workers.\n",
      "[Parallel(n_jobs=-1)]: Done   8 tasks      | elapsed:    0.0s\n",
      "[Parallel(n_jobs=-1)]: Done 102 out of 137 | elapsed:    0.5s remaining:    0.2s\n",
      "[Parallel(n_jobs=-1)]: Done 130 out of 137 | elapsed:    0.6s remaining:    0.0s\n",
      "[Parallel(n_jobs=-1)]: Done 137 out of 137 | elapsed:    0.6s finished\n",
      "[Parallel(n_jobs=-1)]: Using backend LokyBackend with 64 concurrent workers.\n",
      "[Parallel(n_jobs=-1)]: Done   8 tasks      | elapsed:    0.1s\n",
      "[Parallel(n_jobs=-1)]: Done  92 out of 129 | elapsed:    0.6s remaining:    0.3s\n",
      "[Parallel(n_jobs=-1)]: Done 118 out of 129 | elapsed:    0.8s remaining:    0.1s\n",
      "[Parallel(n_jobs=-1)]: Done 129 out of 129 | elapsed:    0.9s finished\n"
     ]
    },
    {
     "name": "stdout",
     "output_type": "stream",
     "text": [
      "./Events/RC_251.xlsx\n",
      "(78, 128, 897)\n",
      " \n",
      "Subj 14:\n",
      "/data/sleep_germandata_reactivation-1/RC_141_sleep_20160621_123516.fif\n"
     ]
    },
    {
     "name": "stderr",
     "output_type": "stream",
     "text": [
      "[Parallel(n_jobs=-1)]: Using backend LokyBackend with 64 concurrent workers.\n",
      "[Parallel(n_jobs=-1)]: Done   8 tasks      | elapsed:    1.0s\n",
      "[Parallel(n_jobs=-1)]: Done 102 out of 137 | elapsed:    9.5s remaining:    3.3s\n",
      "[Parallel(n_jobs=-1)]: Done 130 out of 137 | elapsed:   12.1s remaining:    0.7s\n",
      "[Parallel(n_jobs=-1)]: Done 137 out of 137 | elapsed:   12.8s finished\n",
      "[Parallel(n_jobs=-1)]: Using backend LokyBackend with 64 concurrent workers.\n",
      "[Parallel(n_jobs=-1)]: Done   8 tasks      | elapsed:    0.4s\n",
      "[Parallel(n_jobs=-1)]: Done 102 out of 137 | elapsed:    3.5s remaining:    1.2s\n",
      "[Parallel(n_jobs=-1)]: Done 130 out of 137 | elapsed:    4.4s remaining:    0.2s\n",
      "[Parallel(n_jobs=-1)]: Done 137 out of 137 | elapsed:    4.6s finished\n",
      "[Parallel(n_jobs=-1)]: Using backend LokyBackend with 64 concurrent workers.\n",
      "[Parallel(n_jobs=-1)]: Done   8 tasks      | elapsed:    0.1s\n",
      "[Parallel(n_jobs=-1)]: Done  92 out of 129 | elapsed:    0.8s remaining:    0.3s\n",
      "[Parallel(n_jobs=-1)]: Done 118 out of 129 | elapsed:    1.1s remaining:    0.1s\n",
      "[Parallel(n_jobs=-1)]: Done 129 out of 129 | elapsed:    1.2s finished\n"
     ]
    },
    {
     "name": "stdout",
     "output_type": "stream",
     "text": [
      "./Events/RC_141.xlsx\n",
      "(44, 128, 897)\n",
      " \n",
      "Subj 39:\n",
      "/data/sleep_germandata_reactivation-1/RC_392_sleep_20170517_120847.fif\n"
     ]
    },
    {
     "name": "stderr",
     "output_type": "stream",
     "text": [
      "[Parallel(n_jobs=-1)]: Using backend LokyBackend with 64 concurrent workers.\n",
      "[Parallel(n_jobs=-1)]: Done   8 tasks      | elapsed:    1.0s\n",
      "[Parallel(n_jobs=-1)]: Done 102 out of 137 | elapsed:    9.6s remaining:    3.3s\n",
      "[Parallel(n_jobs=-1)]: Done 130 out of 137 | elapsed:   12.4s remaining:    0.7s\n",
      "[Parallel(n_jobs=-1)]: Done 137 out of 137 | elapsed:   13.0s finished\n",
      "[Parallel(n_jobs=-1)]: Using backend LokyBackend with 64 concurrent workers.\n",
      "[Parallel(n_jobs=-1)]: Done   9 tasks      | elapsed:    0.0s\n",
      "[Parallel(n_jobs=-1)]: Done 102 out of 137 | elapsed:    0.3s remaining:    0.1s\n",
      "[Parallel(n_jobs=-1)]: Done 130 out of 137 | elapsed:    0.3s remaining:    0.0s\n",
      "[Parallel(n_jobs=-1)]: Done 137 out of 137 | elapsed:    0.3s finished\n",
      "[Parallel(n_jobs=-1)]: Using backend LokyBackend with 64 concurrent workers.\n",
      "[Parallel(n_jobs=-1)]: Done   8 tasks      | elapsed:    0.1s\n",
      "[Parallel(n_jobs=-1)]: Done  92 out of 129 | elapsed:    0.6s remaining:    0.3s\n",
      "[Parallel(n_jobs=-1)]: Done 118 out of 129 | elapsed:    0.8s remaining:    0.1s\n",
      "[Parallel(n_jobs=-1)]: Done 129 out of 129 | elapsed:    0.9s finished\n"
     ]
    },
    {
     "name": "stdout",
     "output_type": "stream",
     "text": [
      "./Events/RC_392.xlsx\n",
      "(66, 128, 897)\n"
     ]
    }
   ],
   "source": [
    "#accD=defaultdict(dict)\n",
    "#f1D=defaultdict(dict)\n",
    "for s in subjs:\n",
    "    print(' ')\n",
    "    print(f\"Subj {s}:\")\n",
    "    # D night\n",
    "    for fD in fname_D:\n",
    "        if 'RC_'+s in fD:\n",
    "            file_D=fD\n",
    "            print(file_D)\n",
    "            # load EEG        \n",
    "            raw_data= mne.io.read_raw(file_D,preload=True,verbose=0)\n",
    "            raw_data=raw_data.resample(128,npad='auto',n_jobs=-1,verbose=0) # downsample\n",
    "            raw_data=raw_data.filter(l_freq=0.5, h_freq=4.5,n_jobs=-1,verbose=0) # band-pass filter \n",
    "            eeg_data=raw_data.pick(picks=['eeg'])\n",
    "            eeg_df=eeg_data.to_data_frame(time_format='ms').iloc[:,:-1] # remove channel 129\n",
    "            # load Event file for file_D\n",
    "            events_fn=file_D.split('/')[-1].split('_')[1]\n",
    "            for ff in events_files:\n",
    "                if events_fn in ff:\n",
    "                    print(ff)\n",
    "                    events_info=pd.read_excel(ff,engine='openpyxl',usecols='A:M')\n",
    "            events_df=events_info[['sample','stimulation','Rejected']]\n",
    "            events_df=events_df[events_df['Rejected']==0]\n",
    "   \n",
    "            del raw_data\n",
    "            del eeg_data\n",
    "    \n",
    "            # match timing for EEG and events\n",
    "            events_df['time']=0\n",
    "            for e in events_df.index:\n",
    "                sample=events_df['sample'][e]\n",
    "                abs_diff=abs(eeg_df['time']-sample)\n",
    "                closest_row_index = abs_diff.idxmin()\n",
    "                events_df['time'][e]=eeg_df['time'][closest_row_index]\n",
    "    \n",
    "            # separate events into odor and vehicle\n",
    "            odor_df=events_df[events_df['stimulation']=='ODOR'].reset_index(drop=True)\n",
    "            veh_df=events_df[events_df['stimulation']=='VEHICLE'].reset_index(drop=True)\n",
    "            #print(len(odor_df))\n",
    "            #print(len(veh_df))\n",
    "    \n",
    "            # separate EEG epochs into odor and vehicle\n",
    "            eeg_odor_stim=[]\n",
    "            eeg_veh_stim=[]\n",
    "    \n",
    "            trial_no=min([len(odor_df),len(veh_df)])\n",
    "            for tt in range(trial_no):\n",
    "                odor_start=odor_df['time'][tt] #odor start\n",
    "                veh_start=veh_df['time'][tt] #vehicle start\n",
    "   \n",
    "                # EEG epoch for odor or vehicle (theta epoch:-1 to 5s; slow/fast spindles:9-12.5/12.5-16 Hz)                eeg_odor_df=eeg_df[(eeg_df['time']>=odor_start) & (eeg_df['time']<=(odor_start+7000))].iloc[:,1:].transpose()\n",
    "                eeg_veh_df=eeg_df[(eeg_df['time']>=veh_start) & (eeg_df['time']<=(veh_start+7000))].iloc[:,1:].transpose()\n",
    "        \n",
    "            # convert EEG dataframes into 3D arrays\n",
    "                eeg_odor=eeg_odor_df.to_numpy()[np.newaxis,:, :]\n",
    "                eeg_veh=eeg_veh_df.to_numpy()[np.newaxis,:, :]\n",
    "        \n",
    "            # concatenate EEG epochs/arrays\n",
    "                if tt==0:\n",
    "                    eeg_odor_stim=eeg_odor\n",
    "                    eeg_veh_stim=eeg_veh\n",
    "                elif tt>0:\n",
    "                    eeg_odor_stim=np.concatenate((eeg_odor_stim,eeg_odor), axis=0)\n",
    "                    eeg_veh_stim=np.concatenate((eeg_veh_stim,eeg_veh), axis=0)\n",
    "            XD=np.concatenate((eeg_veh_stim,eeg_odor_stim), axis=0)\n",
    "            print(XD.shape)\n",
    "            #XD_index=np.arange(0,XD.shape[0])\n",
    "            \n",
    "            #Ground truth\n",
    "            y_odor=np.ones(trial_no) # 1 is odor\n",
    "            y_veh=np.zeros(trial_no) # 0 is vehicle\n",
    "            y=np.concatenate((y_veh,y_odor))\n",
    "            y_encodedD=to_categorical(y-1,num_classes=2)\n",
    "            #print(y_encodedD.shape)\n",
    "            \n",
    "            # save EEG array for each subject\n",
    "            with open(folder+'XD_'+s+'.npy', 'wb') as f:\n",
    "                np.save(f, XD)\n",
    "    \n",
    "            with open(folder+'y_encodedD_'+s+'.npy', 'wb') as f:\n",
    "                np.save(f, y_encodedD)"
   ]
  },
  {
   "cell_type": "markdown",
   "id": "afe1e120",
   "metadata": {},
   "source": [
    "## M night"
   ]
  },
  {
   "cell_type": "code",
   "execution_count": 16,
   "id": "bb09bcef",
   "metadata": {},
   "outputs": [
    {
     "name": "stdout",
     "output_type": "stream",
     "text": [
      " \n",
      "Subj 45:\n",
      "/data/sleep_germandata_reactivation-1/RC_451_sleep_20170608_122254.fif\n"
     ]
    },
    {
     "name": "stderr",
     "output_type": "stream",
     "text": [
      "[Parallel(n_jobs=-1)]: Using backend LokyBackend with 64 concurrent workers.\n",
      "[Parallel(n_jobs=-1)]: Done   8 tasks      | elapsed:    0.9s\n",
      "[Parallel(n_jobs=-1)]: Done 102 out of 137 | elapsed:    9.6s remaining:    3.3s\n",
      "[Parallel(n_jobs=-1)]: Done 130 out of 137 | elapsed:   12.3s remaining:    0.7s\n",
      "[Parallel(n_jobs=-1)]: Done 137 out of 137 | elapsed:   12.9s finished\n",
      "[Parallel(n_jobs=-1)]: Using backend LokyBackend with 64 concurrent workers.\n",
      "[Parallel(n_jobs=-1)]: Done   8 tasks      | elapsed:    0.4s\n",
      "[Parallel(n_jobs=-1)]: Done 102 out of 137 | elapsed:    3.8s remaining:    1.3s\n",
      "[Parallel(n_jobs=-1)]: Done 130 out of 137 | elapsed:    4.7s remaining:    0.3s\n",
      "[Parallel(n_jobs=-1)]: Done 137 out of 137 | elapsed:    4.9s finished\n",
      "[Parallel(n_jobs=-1)]: Using backend LokyBackend with 64 concurrent workers.\n",
      "[Parallel(n_jobs=-1)]: Done   8 tasks      | elapsed:    0.1s\n",
      "[Parallel(n_jobs=-1)]: Done  92 out of 129 | elapsed:    0.9s remaining:    0.4s\n",
      "[Parallel(n_jobs=-1)]: Done 118 out of 129 | elapsed:    1.1s remaining:    0.1s\n",
      "[Parallel(n_jobs=-1)]: Done 129 out of 129 | elapsed:    1.2s finished\n"
     ]
    },
    {
     "name": "stdout",
     "output_type": "stream",
     "text": [
      "./Events/RC_451.xlsx\n",
      "(52, 128, 897)\n",
      " \n",
      "Subj 46:\n",
      "/data/sleep_germandata_reactivation-1/RC_461_sleep_20170615_121704.fif\n"
     ]
    },
    {
     "name": "stderr",
     "output_type": "stream",
     "text": [
      "[Parallel(n_jobs=-1)]: Using backend LokyBackend with 64 concurrent workers.\n",
      "[Parallel(n_jobs=-1)]: Done   8 tasks      | elapsed:    0.9s\n",
      "[Parallel(n_jobs=-1)]: Done 102 out of 137 | elapsed:    9.2s remaining:    3.1s\n",
      "[Parallel(n_jobs=-1)]: Done 130 out of 137 | elapsed:   11.6s remaining:    0.6s\n",
      "[Parallel(n_jobs=-1)]: Done 137 out of 137 | elapsed:   12.2s finished\n",
      "[Parallel(n_jobs=-1)]: Using backend LokyBackend with 64 concurrent workers.\n",
      "[Parallel(n_jobs=-1)]: Done   8 tasks      | elapsed:    0.1s\n",
      "[Parallel(n_jobs=-1)]: Done  92 out of 129 | elapsed:    0.5s remaining:    0.2s\n",
      "[Parallel(n_jobs=-1)]: Done 118 out of 129 | elapsed:    0.7s remaining:    0.1s\n",
      "[Parallel(n_jobs=-1)]: Done 129 out of 129 | elapsed:    0.8s finished\n"
     ]
    },
    {
     "name": "stdout",
     "output_type": "stream",
     "text": [
      "./Events/RC_461.xlsx\n",
      "(50, 128, 897)\n",
      " \n",
      "Subj 48:\n",
      "/data/sleep_germandata_reactivation-1/RC_481_sleep_20170712_121519.fif\n"
     ]
    },
    {
     "name": "stderr",
     "output_type": "stream",
     "text": [
      "[Parallel(n_jobs=-1)]: Using backend LokyBackend with 64 concurrent workers.\n",
      "[Parallel(n_jobs=-1)]: Done   8 tasks      | elapsed:    0.9s\n",
      "[Parallel(n_jobs=-1)]: Done 102 out of 137 | elapsed:    8.5s remaining:    2.9s\n",
      "[Parallel(n_jobs=-1)]: Done 130 out of 137 | elapsed:   11.0s remaining:    0.6s\n",
      "[Parallel(n_jobs=-1)]: Done 137 out of 137 | elapsed:   11.5s finished\n",
      "[Parallel(n_jobs=-1)]: Using backend LokyBackend with 64 concurrent workers.\n",
      "[Parallel(n_jobs=-1)]: Done   8 tasks      | elapsed:    0.1s\n",
      "[Parallel(n_jobs=-1)]: Done  92 out of 129 | elapsed:    0.5s remaining:    0.2s\n",
      "[Parallel(n_jobs=-1)]: Done 118 out of 129 | elapsed:    0.7s remaining:    0.1s\n",
      "[Parallel(n_jobs=-1)]: Done 129 out of 129 | elapsed:    0.7s finished\n"
     ]
    },
    {
     "name": "stdout",
     "output_type": "stream",
     "text": [
      "./Events/RC_481.xlsx\n",
      "(60, 128, 897)\n",
      " \n",
      "Subj 12:\n",
      "/data/sleep_germandata_reactivation-1/RC_122_sleep_20160629_113917.fif\n"
     ]
    },
    {
     "name": "stderr",
     "output_type": "stream",
     "text": [
      "[Parallel(n_jobs=-1)]: Using backend LokyBackend with 64 concurrent workers.\n",
      "[Parallel(n_jobs=-1)]: Done   8 tasks      | elapsed:    0.9s\n",
      "[Parallel(n_jobs=-1)]: Done 102 out of 137 | elapsed:    8.3s remaining:    2.8s\n",
      "[Parallel(n_jobs=-1)]: Done 130 out of 137 | elapsed:   10.7s remaining:    0.6s\n",
      "[Parallel(n_jobs=-1)]: Done 137 out of 137 | elapsed:   11.2s finished\n",
      "[Parallel(n_jobs=-1)]: Using backend LokyBackend with 64 concurrent workers.\n",
      "[Parallel(n_jobs=-1)]: Done   8 tasks      | elapsed:    0.1s\n",
      "[Parallel(n_jobs=-1)]: Done  92 out of 129 | elapsed:    0.6s remaining:    0.2s\n",
      "[Parallel(n_jobs=-1)]: Done 118 out of 129 | elapsed:    0.8s remaining:    0.1s\n",
      "[Parallel(n_jobs=-1)]: Done 129 out of 129 | elapsed:    0.8s finished\n"
     ]
    },
    {
     "name": "stdout",
     "output_type": "stream",
     "text": [
      "./Events/RC_122.xlsx\n",
      "(44, 128, 897)\n",
      " \n",
      "Subj 28:\n",
      "/data/sleep_germandata_reactivation-1/RC_282_sleep_20161112_115852.fif\n"
     ]
    },
    {
     "name": "stderr",
     "output_type": "stream",
     "text": [
      "[Parallel(n_jobs=-1)]: Using backend LokyBackend with 64 concurrent workers.\n",
      "[Parallel(n_jobs=-1)]: Done   8 tasks      | elapsed:    0.9s\n",
      "[Parallel(n_jobs=-1)]: Done 102 out of 137 | elapsed:    8.5s remaining:    2.9s\n",
      "[Parallel(n_jobs=-1)]: Done 130 out of 137 | elapsed:   10.7s remaining:    0.6s\n",
      "[Parallel(n_jobs=-1)]: Done 137 out of 137 | elapsed:   11.2s finished\n",
      "[Parallel(n_jobs=-1)]: Using backend LokyBackend with 64 concurrent workers.\n",
      "[Parallel(n_jobs=-1)]: Done   8 tasks      | elapsed:    0.1s\n",
      "[Parallel(n_jobs=-1)]: Done  92 out of 129 | elapsed:    0.6s remaining:    0.2s\n",
      "[Parallel(n_jobs=-1)]: Done 118 out of 129 | elapsed:    0.8s remaining:    0.1s\n",
      "[Parallel(n_jobs=-1)]: Done 129 out of 129 | elapsed:    0.8s finished\n"
     ]
    },
    {
     "name": "stdout",
     "output_type": "stream",
     "text": [
      "./Events/RC_282.xlsx\n",
      "(78, 128, 897)\n",
      " \n",
      "Subj 24:\n",
      "/data/sleep_germandata_reactivation-1/RC_242_sleep_20160928_114348.fif\n"
     ]
    },
    {
     "name": "stderr",
     "output_type": "stream",
     "text": [
      "[Parallel(n_jobs=-1)]: Using backend LokyBackend with 64 concurrent workers.\n",
      "[Parallel(n_jobs=-1)]: Done   8 tasks      | elapsed:    0.9s\n",
      "[Parallel(n_jobs=-1)]: Done 102 out of 137 | elapsed:    8.9s remaining:    3.1s\n",
      "[Parallel(n_jobs=-1)]: Done 130 out of 137 | elapsed:   11.4s remaining:    0.6s\n",
      "[Parallel(n_jobs=-1)]: Done 137 out of 137 | elapsed:   12.0s finished\n",
      "[Parallel(n_jobs=-1)]: Using backend LokyBackend with 64 concurrent workers.\n",
      "[Parallel(n_jobs=-1)]: Done   8 tasks      | elapsed:    0.2s\n",
      "[Parallel(n_jobs=-1)]: Done 102 out of 137 | elapsed:    1.3s remaining:    0.4s\n",
      "[Parallel(n_jobs=-1)]: Done 130 out of 137 | elapsed:    1.6s remaining:    0.1s\n",
      "[Parallel(n_jobs=-1)]: Done 137 out of 137 | elapsed:    1.7s finished\n",
      "[Parallel(n_jobs=-1)]: Using backend LokyBackend with 64 concurrent workers.\n",
      "[Parallel(n_jobs=-1)]: Done   8 tasks      | elapsed:    0.1s\n",
      "[Parallel(n_jobs=-1)]: Done  92 out of 129 | elapsed:    0.8s remaining:    0.3s\n",
      "[Parallel(n_jobs=-1)]: Done 118 out of 129 | elapsed:    1.0s remaining:    0.1s\n",
      "[Parallel(n_jobs=-1)]: Done 129 out of 129 | elapsed:    1.0s finished\n"
     ]
    },
    {
     "name": "stdout",
     "output_type": "stream",
     "text": [
      "./Events/RC_242.xlsx\n",
      "(68, 128, 897)\n",
      " \n",
      "Subj 20:\n",
      "/data/sleep_germandata_reactivation-1/RC_202_sleep_20160907_115907.fif\n"
     ]
    },
    {
     "name": "stderr",
     "output_type": "stream",
     "text": [
      "[Parallel(n_jobs=-1)]: Using backend LokyBackend with 64 concurrent workers.\n",
      "[Parallel(n_jobs=-1)]: Done   8 tasks      | elapsed:    1.1s\n",
      "[Parallel(n_jobs=-1)]: Done 102 out of 137 | elapsed:    8.7s remaining:    3.0s\n",
      "[Parallel(n_jobs=-1)]: Done 130 out of 137 | elapsed:   11.0s remaining:    0.6s\n",
      "[Parallel(n_jobs=-1)]: Done 137 out of 137 | elapsed:   11.6s finished\n",
      "[Parallel(n_jobs=-1)]: Using backend LokyBackend with 64 concurrent workers.\n",
      "[Parallel(n_jobs=-1)]: Done   8 tasks      | elapsed:    0.1s\n",
      "[Parallel(n_jobs=-1)]: Done  92 out of 129 | elapsed:    0.5s remaining:    0.2s\n",
      "[Parallel(n_jobs=-1)]: Done 118 out of 129 | elapsed:    0.7s remaining:    0.1s\n",
      "[Parallel(n_jobs=-1)]: Done 129 out of 129 | elapsed:    0.7s finished\n"
     ]
    },
    {
     "name": "stdout",
     "output_type": "stream",
     "text": [
      "./Events/RC_202.xlsx\n",
      "(64, 128, 897)\n",
      " \n",
      "Subj 16:\n",
      "/data/sleep_germandata_reactivation-1/RC_162_sleep_20160710_121028.fif\n"
     ]
    },
    {
     "name": "stderr",
     "output_type": "stream",
     "text": [
      "[Parallel(n_jobs=-1)]: Using backend LokyBackend with 64 concurrent workers.\n",
      "[Parallel(n_jobs=-1)]: Done   8 tasks      | elapsed:    0.8s\n",
      "[Parallel(n_jobs=-1)]: Done 102 out of 137 | elapsed:    8.5s remaining:    2.9s\n",
      "[Parallel(n_jobs=-1)]: Done 130 out of 137 | elapsed:   10.8s remaining:    0.6s\n",
      "[Parallel(n_jobs=-1)]: Done 137 out of 137 | elapsed:   11.5s finished\n",
      "[Parallel(n_jobs=-1)]: Using backend LokyBackend with 64 concurrent workers.\n",
      "[Parallel(n_jobs=-1)]: Done   8 tasks      | elapsed:    0.1s\n",
      "[Parallel(n_jobs=-1)]: Done  92 out of 129 | elapsed:    0.5s remaining:    0.2s\n",
      "[Parallel(n_jobs=-1)]: Done 118 out of 129 | elapsed:    0.6s remaining:    0.1s\n",
      "[Parallel(n_jobs=-1)]: Done 129 out of 129 | elapsed:    0.7s finished\n"
     ]
    },
    {
     "name": "stdout",
     "output_type": "stream",
     "text": [
      "./Events/RC_162.xlsx\n",
      "(78, 128, 897)\n",
      " \n",
      "Subj 05:\n",
      "/data/sleep_germandata_reactivation-1/RC_052_sleep_20160525_124226.fif\n"
     ]
    },
    {
     "name": "stderr",
     "output_type": "stream",
     "text": [
      "[Parallel(n_jobs=-1)]: Using backend LokyBackend with 64 concurrent workers.\n",
      "[Parallel(n_jobs=-1)]: Done   8 tasks      | elapsed:    0.9s\n",
      "[Parallel(n_jobs=-1)]: Done 102 out of 137 | elapsed:    9.0s remaining:    3.1s\n",
      "[Parallel(n_jobs=-1)]: Done 130 out of 137 | elapsed:   11.9s remaining:    0.6s\n",
      "[Parallel(n_jobs=-1)]: Done 137 out of 137 | elapsed:   12.5s finished\n",
      "[Parallel(n_jobs=-1)]: Using backend LokyBackend with 64 concurrent workers.\n",
      "[Parallel(n_jobs=-1)]: Done   8 tasks      | elapsed:    0.0s\n",
      "[Parallel(n_jobs=-1)]: Done 102 out of 137 | elapsed:    0.4s remaining:    0.1s\n",
      "[Parallel(n_jobs=-1)]: Done 130 out of 137 | elapsed:    0.5s remaining:    0.0s\n",
      "[Parallel(n_jobs=-1)]: Done 137 out of 137 | elapsed:    0.5s finished\n",
      "[Parallel(n_jobs=-1)]: Using backend LokyBackend with 64 concurrent workers.\n",
      "[Parallel(n_jobs=-1)]: Done   8 tasks      | elapsed:    0.1s\n",
      "[Parallel(n_jobs=-1)]: Done  92 out of 129 | elapsed:    0.6s remaining:    0.2s\n",
      "[Parallel(n_jobs=-1)]: Done 118 out of 129 | elapsed:    0.8s remaining:    0.1s\n",
      "[Parallel(n_jobs=-1)]: Done 129 out of 129 | elapsed:    0.8s finished\n"
     ]
    },
    {
     "name": "stdout",
     "output_type": "stream",
     "text": [
      "./Events/RC_052.xlsx\n",
      "(66, 128, 897)\n",
      " \n",
      "Subj 30:\n",
      "/data/sleep_germandata_reactivation-1/RC_302_sleep_20161021_114250.fif\n"
     ]
    },
    {
     "name": "stderr",
     "output_type": "stream",
     "text": [
      "[Parallel(n_jobs=-1)]: Using backend LokyBackend with 64 concurrent workers.\n",
      "[Parallel(n_jobs=-1)]: Done   8 tasks      | elapsed:    0.9s\n",
      "[Parallel(n_jobs=-1)]: Done 102 out of 137 | elapsed:    9.1s remaining:    3.1s\n",
      "[Parallel(n_jobs=-1)]: Done 130 out of 137 | elapsed:   11.3s remaining:    0.6s\n",
      "[Parallel(n_jobs=-1)]: Done 137 out of 137 | elapsed:   12.0s finished\n",
      "[Parallel(n_jobs=-1)]: Using backend LokyBackend with 64 concurrent workers.\n",
      "[Parallel(n_jobs=-1)]: Done   8 tasks      | elapsed:    0.4s\n",
      "[Parallel(n_jobs=-1)]: Done 102 out of 137 | elapsed:    4.8s remaining:    1.6s\n",
      "[Parallel(n_jobs=-1)]: Done 130 out of 137 | elapsed:    6.1s remaining:    0.3s\n",
      "[Parallel(n_jobs=-1)]: Done 137 out of 137 | elapsed:    6.4s finished\n",
      "[Parallel(n_jobs=-1)]: Using backend LokyBackend with 64 concurrent workers.\n",
      "[Parallel(n_jobs=-1)]: Done   8 tasks      | elapsed:    0.1s\n",
      "[Parallel(n_jobs=-1)]: Done  92 out of 129 | elapsed:    1.0s remaining:    0.4s\n",
      "[Parallel(n_jobs=-1)]: Done 118 out of 129 | elapsed:    1.2s remaining:    0.1s\n",
      "[Parallel(n_jobs=-1)]: Done 129 out of 129 | elapsed:    1.3s finished\n"
     ]
    },
    {
     "name": "stdout",
     "output_type": "stream",
     "text": [
      "./Events/RC_302.xlsx\n",
      "(54, 128, 897)\n",
      " \n",
      "Subj 44:\n",
      "/data/sleep_germandata_reactivation-1/RC_441_sleep_20170527_120139.fif\n"
     ]
    },
    {
     "name": "stderr",
     "output_type": "stream",
     "text": [
      "[Parallel(n_jobs=-1)]: Using backend LokyBackend with 64 concurrent workers.\n",
      "[Parallel(n_jobs=-1)]: Done   8 tasks      | elapsed:    0.9s\n",
      "[Parallel(n_jobs=-1)]: Done 102 out of 137 | elapsed:    8.6s remaining:    2.9s\n",
      "[Parallel(n_jobs=-1)]: Done 130 out of 137 | elapsed:   10.9s remaining:    0.6s\n",
      "[Parallel(n_jobs=-1)]: Done 137 out of 137 | elapsed:   11.5s finished\n",
      "[Parallel(n_jobs=-1)]: Using backend LokyBackend with 64 concurrent workers.\n",
      "[Parallel(n_jobs=-1)]: Done   8 tasks      | elapsed:    0.1s\n",
      "[Parallel(n_jobs=-1)]: Done  92 out of 129 | elapsed:    0.6s remaining:    0.2s\n",
      "[Parallel(n_jobs=-1)]: Done 118 out of 129 | elapsed:    0.8s remaining:    0.1s\n",
      "[Parallel(n_jobs=-1)]: Done 129 out of 129 | elapsed:    0.9s finished\n"
     ]
    },
    {
     "name": "stdout",
     "output_type": "stream",
     "text": [
      "./Events/RC_441.xlsx\n",
      "(74, 128, 897)\n",
      " \n",
      "Subj 29:\n",
      "/data/sleep_germandata_reactivation-1/RC_292_sleep_20161026_114925.fif\n"
     ]
    },
    {
     "name": "stderr",
     "output_type": "stream",
     "text": [
      "[Parallel(n_jobs=-1)]: Using backend LokyBackend with 64 concurrent workers.\n",
      "[Parallel(n_jobs=-1)]: Done   8 tasks      | elapsed:    1.0s\n",
      "[Parallel(n_jobs=-1)]: Done 102 out of 137 | elapsed:    9.5s remaining:    3.3s\n",
      "[Parallel(n_jobs=-1)]: Done 130 out of 137 | elapsed:   12.1s remaining:    0.6s\n",
      "[Parallel(n_jobs=-1)]: Done 137 out of 137 | elapsed:   12.7s finished\n",
      "[Parallel(n_jobs=-1)]: Using backend LokyBackend with 64 concurrent workers.\n",
      "[Parallel(n_jobs=-1)]: Done   8 tasks      | elapsed:    0.1s\n",
      "[Parallel(n_jobs=-1)]: Done  92 out of 129 | elapsed:    0.5s remaining:    0.2s\n",
      "[Parallel(n_jobs=-1)]: Done 118 out of 129 | elapsed:    0.7s remaining:    0.1s\n",
      "[Parallel(n_jobs=-1)]: Done 129 out of 129 | elapsed:    0.7s finished\n"
     ]
    },
    {
     "name": "stdout",
     "output_type": "stream",
     "text": [
      "./Events/RC_292.xlsx\n",
      "(62, 128, 897)\n",
      " \n",
      "Subj 47:\n",
      "/data/sleep_germandata_reactivation-1/RC_471_sleep_20170618_122142.fif\n"
     ]
    },
    {
     "name": "stderr",
     "output_type": "stream",
     "text": [
      "[Parallel(n_jobs=-1)]: Using backend LokyBackend with 64 concurrent workers.\n",
      "[Parallel(n_jobs=-1)]: Done   8 tasks      | elapsed:    0.9s\n",
      "[Parallel(n_jobs=-1)]: Done 101 out of 136 | elapsed:    8.3s remaining:    2.9s\n",
      "[Parallel(n_jobs=-1)]: Done 129 out of 136 | elapsed:   10.6s remaining:    0.6s\n",
      "[Parallel(n_jobs=-1)]: Done 136 out of 136 | elapsed:   11.3s finished\n",
      "[Parallel(n_jobs=-1)]: Using backend LokyBackend with 64 concurrent workers.\n",
      "[Parallel(n_jobs=-1)]: Done   8 tasks      | elapsed:    0.1s\n",
      "[Parallel(n_jobs=-1)]: Done  92 out of 129 | elapsed:    0.6s remaining:    0.2s\n",
      "[Parallel(n_jobs=-1)]: Done 118 out of 129 | elapsed:    0.8s remaining:    0.1s\n",
      "[Parallel(n_jobs=-1)]: Done 129 out of 129 | elapsed:    0.9s finished\n"
     ]
    },
    {
     "name": "stdout",
     "output_type": "stream",
     "text": [
      "./Events/RC_471.xlsx\n",
      "(80, 128, 897)\n",
      " \n",
      "Subj 41:\n",
      "/data/sleep_germandata_reactivation-1/RC_411_sleep_20170423_113937.fif\n"
     ]
    },
    {
     "name": "stderr",
     "output_type": "stream",
     "text": [
      "[Parallel(n_jobs=-1)]: Using backend LokyBackend with 64 concurrent workers.\n",
      "[Parallel(n_jobs=-1)]: Done   8 tasks      | elapsed:    1.0s\n",
      "[Parallel(n_jobs=-1)]: Done 102 out of 137 | elapsed:    9.5s remaining:    3.3s\n",
      "[Parallel(n_jobs=-1)]: Done 130 out of 137 | elapsed:   12.1s remaining:    0.7s\n",
      "[Parallel(n_jobs=-1)]: Done 137 out of 137 | elapsed:   12.7s finished\n",
      "[Parallel(n_jobs=-1)]: Using backend LokyBackend with 64 concurrent workers.\n",
      "[Parallel(n_jobs=-1)]: Done   8 tasks      | elapsed:    0.3s\n",
      "[Parallel(n_jobs=-1)]: Done 102 out of 137 | elapsed:    3.1s remaining:    1.1s\n",
      "[Parallel(n_jobs=-1)]: Done 130 out of 137 | elapsed:    3.9s remaining:    0.2s\n",
      "[Parallel(n_jobs=-1)]: Done 137 out of 137 | elapsed:    4.1s finished\n",
      "[Parallel(n_jobs=-1)]: Using backend LokyBackend with 64 concurrent workers.\n",
      "[Parallel(n_jobs=-1)]: Done   8 tasks      | elapsed:    0.1s\n",
      "[Parallel(n_jobs=-1)]: Done  92 out of 129 | elapsed:    0.7s remaining:    0.3s\n",
      "[Parallel(n_jobs=-1)]: Done 118 out of 129 | elapsed:    0.9s remaining:    0.1s\n",
      "[Parallel(n_jobs=-1)]: Done 129 out of 129 | elapsed:    1.0s finished\n"
     ]
    },
    {
     "name": "stdout",
     "output_type": "stream",
     "text": [
      "./Events/RC_411.xlsx\n",
      "(42, 128, 897)\n",
      " \n",
      "Subj 09:\n",
      "/data/sleep_germandata_reactivation-1/RC_092_sleep_20160823_111936.fif\n"
     ]
    },
    {
     "name": "stderr",
     "output_type": "stream",
     "text": [
      "[Parallel(n_jobs=-1)]: Using backend LokyBackend with 64 concurrent workers.\n",
      "[Parallel(n_jobs=-1)]: Done   8 tasks      | elapsed:    0.9s\n",
      "[Parallel(n_jobs=-1)]: Done 102 out of 137 | elapsed:    8.1s remaining:    2.8s\n",
      "[Parallel(n_jobs=-1)]: Done 130 out of 137 | elapsed:   10.4s remaining:    0.6s\n",
      "[Parallel(n_jobs=-1)]: Done 137 out of 137 | elapsed:   11.1s finished\n",
      "[Parallel(n_jobs=-1)]: Using backend LokyBackend with 64 concurrent workers.\n",
      "[Parallel(n_jobs=-1)]: Done   8 tasks      | elapsed:    0.1s\n",
      "[Parallel(n_jobs=-1)]: Done  92 out of 129 | elapsed:    0.6s remaining:    0.2s\n",
      "[Parallel(n_jobs=-1)]: Done 118 out of 129 | elapsed:    0.8s remaining:    0.1s\n",
      "[Parallel(n_jobs=-1)]: Done 129 out of 129 | elapsed:    0.8s finished\n"
     ]
    },
    {
     "name": "stdout",
     "output_type": "stream",
     "text": [
      "./Events/RC_092.xlsx\n",
      "(56, 128, 897)\n",
      " \n",
      "Subj 49:\n",
      "/data/sleep_germandata_reactivation-1/RC_491_sleep_20170619_122733.fif\n"
     ]
    },
    {
     "name": "stderr",
     "output_type": "stream",
     "text": [
      "[Parallel(n_jobs=-1)]: Using backend LokyBackend with 64 concurrent workers.\n",
      "[Parallel(n_jobs=-1)]: Done   8 tasks      | elapsed:    0.9s\n",
      "[Parallel(n_jobs=-1)]: Done 102 out of 137 | elapsed:    9.3s remaining:    3.2s\n",
      "[Parallel(n_jobs=-1)]: Done 130 out of 137 | elapsed:   11.8s remaining:    0.6s\n",
      "[Parallel(n_jobs=-1)]: Done 137 out of 137 | elapsed:   12.5s finished\n",
      "[Parallel(n_jobs=-1)]: Using backend LokyBackend with 64 concurrent workers.\n",
      "[Parallel(n_jobs=-1)]: Done   8 tasks      | elapsed:    0.0s\n",
      "[Parallel(n_jobs=-1)]: Done 102 out of 137 | elapsed:    0.4s remaining:    0.2s\n",
      "[Parallel(n_jobs=-1)]: Done 130 out of 137 | elapsed:    0.6s remaining:    0.0s\n",
      "[Parallel(n_jobs=-1)]: Done 137 out of 137 | elapsed:    0.6s finished\n",
      "[Parallel(n_jobs=-1)]: Using backend LokyBackend with 64 concurrent workers.\n",
      "[Parallel(n_jobs=-1)]: Done   8 tasks      | elapsed:    0.1s\n",
      "[Parallel(n_jobs=-1)]: Done  92 out of 129 | elapsed:    0.6s remaining:    0.2s\n",
      "[Parallel(n_jobs=-1)]: Done 118 out of 129 | elapsed:    0.8s remaining:    0.1s\n",
      "[Parallel(n_jobs=-1)]: Done 129 out of 129 | elapsed:    0.8s finished\n"
     ]
    },
    {
     "name": "stdout",
     "output_type": "stream",
     "text": [
      "./Events/RC_491.xlsx\n",
      "(62, 128, 897)\n",
      " \n",
      "Subj 17:\n",
      "/data/sleep_germandata_reactivation-1/RC_172_sleep_20160811_113202.fif\n"
     ]
    },
    {
     "name": "stderr",
     "output_type": "stream",
     "text": [
      "[Parallel(n_jobs=-1)]: Using backend LokyBackend with 64 concurrent workers.\n",
      "[Parallel(n_jobs=-1)]: Done   8 tasks      | elapsed:    0.9s\n",
      "[Parallel(n_jobs=-1)]: Done 102 out of 137 | elapsed:    9.8s remaining:    3.4s\n",
      "[Parallel(n_jobs=-1)]: Done 130 out of 137 | elapsed:   12.3s remaining:    0.7s\n",
      "[Parallel(n_jobs=-1)]: Done 137 out of 137 | elapsed:   13.1s finished\n",
      "[Parallel(n_jobs=-1)]: Using backend LokyBackend with 64 concurrent workers.\n",
      "[Parallel(n_jobs=-1)]: Done   8 tasks      | elapsed:    0.2s\n",
      "[Parallel(n_jobs=-1)]: Done 102 out of 137 | elapsed:    1.4s remaining:    0.5s\n",
      "[Parallel(n_jobs=-1)]: Done 130 out of 137 | elapsed:    1.8s remaining:    0.1s\n",
      "[Parallel(n_jobs=-1)]: Done 137 out of 137 | elapsed:    1.9s finished\n",
      "[Parallel(n_jobs=-1)]: Using backend LokyBackend with 64 concurrent workers.\n",
      "[Parallel(n_jobs=-1)]: Done   8 tasks      | elapsed:    0.1s\n",
      "[Parallel(n_jobs=-1)]: Done  92 out of 129 | elapsed:    0.8s remaining:    0.3s\n",
      "[Parallel(n_jobs=-1)]: Done 118 out of 129 | elapsed:    1.0s remaining:    0.1s\n",
      "[Parallel(n_jobs=-1)]: Done 129 out of 129 | elapsed:    1.1s finished\n"
     ]
    },
    {
     "name": "stdout",
     "output_type": "stream",
     "text": [
      "./Events/RC_172.xlsx\n",
      "(58, 128, 897)\n",
      " \n",
      "Subj 13:\n",
      "/data/sleep_germandata_reactivation-1/RC_132_sleep_20160802_114042.fif\n"
     ]
    },
    {
     "name": "stderr",
     "output_type": "stream",
     "text": [
      "[Parallel(n_jobs=-1)]: Using backend LokyBackend with 64 concurrent workers.\n",
      "[Parallel(n_jobs=-1)]: Done   8 tasks      | elapsed:    0.8s\n",
      "[Parallel(n_jobs=-1)]: Done 102 out of 137 | elapsed:    8.3s remaining:    2.9s\n",
      "[Parallel(n_jobs=-1)]: Done 130 out of 137 | elapsed:   10.6s remaining:    0.6s\n",
      "[Parallel(n_jobs=-1)]: Done 137 out of 137 | elapsed:   11.1s finished\n",
      "[Parallel(n_jobs=-1)]: Using backend LokyBackend with 64 concurrent workers.\n",
      "[Parallel(n_jobs=-1)]: Done   8 tasks      | elapsed:    0.1s\n",
      "[Parallel(n_jobs=-1)]: Done  92 out of 129 | elapsed:    0.5s remaining:    0.2s\n",
      "[Parallel(n_jobs=-1)]: Done 118 out of 129 | elapsed:    0.6s remaining:    0.1s\n",
      "[Parallel(n_jobs=-1)]: Done 129 out of 129 | elapsed:    0.7s finished\n"
     ]
    },
    {
     "name": "stdout",
     "output_type": "stream",
     "text": [
      "./Events/RC_132.xlsx\n",
      "(56, 128, 897)\n",
      " \n",
      "Subj 51:\n",
      "/data/sleep_germandata_reactivation-1/RC_511_sleep_20170714_122154.fif\n"
     ]
    },
    {
     "name": "stderr",
     "output_type": "stream",
     "text": [
      "[Parallel(n_jobs=-1)]: Using backend LokyBackend with 64 concurrent workers.\n",
      "[Parallel(n_jobs=-1)]: Done   8 tasks      | elapsed:    1.1s\n",
      "[Parallel(n_jobs=-1)]: Done 101 out of 136 | elapsed:    9.4s remaining:    3.2s\n",
      "[Parallel(n_jobs=-1)]: Done 129 out of 136 | elapsed:   12.0s remaining:    0.7s\n",
      "[Parallel(n_jobs=-1)]: Done 136 out of 136 | elapsed:   12.7s finished\n",
      "[Parallel(n_jobs=-1)]: Using backend LokyBackend with 64 concurrent workers.\n",
      "[Parallel(n_jobs=-1)]: Done   8 tasks      | elapsed:    0.1s\n",
      "[Parallel(n_jobs=-1)]: Done 101 out of 136 | elapsed:    1.4s remaining:    0.5s\n",
      "[Parallel(n_jobs=-1)]: Done 129 out of 136 | elapsed:    1.8s remaining:    0.1s\n",
      "[Parallel(n_jobs=-1)]: Done 136 out of 136 | elapsed:    1.9s finished\n",
      "[Parallel(n_jobs=-1)]: Using backend LokyBackend with 64 concurrent workers.\n",
      "[Parallel(n_jobs=-1)]: Done   8 tasks      | elapsed:    0.1s\n",
      "[Parallel(n_jobs=-1)]: Done  92 out of 129 | elapsed:    0.7s remaining:    0.3s\n",
      "[Parallel(n_jobs=-1)]: Done 118 out of 129 | elapsed:    0.9s remaining:    0.1s\n",
      "[Parallel(n_jobs=-1)]: Done 129 out of 129 | elapsed:    1.0s finished\n"
     ]
    },
    {
     "name": "stdout",
     "output_type": "stream",
     "text": [
      "./Events/RC_511.xlsx\n",
      "(60, 128, 897)\n",
      " \n",
      "Subj 26:\n",
      "/data/sleep_germandata_reactivation-1/RC_262_sleep_20160923_112039.fif\n"
     ]
    },
    {
     "name": "stderr",
     "output_type": "stream",
     "text": [
      "[Parallel(n_jobs=-1)]: Using backend LokyBackend with 64 concurrent workers.\n",
      "[Parallel(n_jobs=-1)]: Done   8 tasks      | elapsed:    0.8s\n",
      "[Parallel(n_jobs=-1)]: Done 102 out of 137 | elapsed:    9.0s remaining:    3.1s\n",
      "[Parallel(n_jobs=-1)]: Done 130 out of 137 | elapsed:   11.4s remaining:    0.6s\n",
      "[Parallel(n_jobs=-1)]: Done 137 out of 137 | elapsed:   12.0s finished\n",
      "[Parallel(n_jobs=-1)]: Using backend LokyBackend with 64 concurrent workers.\n",
      "[Parallel(n_jobs=-1)]: Done   8 tasks      | elapsed:    0.1s\n",
      "[Parallel(n_jobs=-1)]: Done  92 out of 129 | elapsed:    0.5s remaining:    0.2s\n",
      "[Parallel(n_jobs=-1)]: Done 118 out of 129 | elapsed:    0.7s remaining:    0.1s\n",
      "[Parallel(n_jobs=-1)]: Done 129 out of 129 | elapsed:    0.7s finished\n"
     ]
    },
    {
     "name": "stdout",
     "output_type": "stream",
     "text": [
      "./Events/RC_262.xlsx\n",
      "(58, 128, 897)\n",
      " \n",
      "Subj 25:\n",
      "/data/sleep_germandata_reactivation-1/RC_252_sleep_20160929_113717.fif\n"
     ]
    },
    {
     "name": "stderr",
     "output_type": "stream",
     "text": [
      "[Parallel(n_jobs=-1)]: Using backend LokyBackend with 64 concurrent workers.\n",
      "[Parallel(n_jobs=-1)]: Done   8 tasks      | elapsed:    1.1s\n",
      "[Parallel(n_jobs=-1)]: Done 102 out of 137 | elapsed:    9.5s remaining:    3.3s\n",
      "[Parallel(n_jobs=-1)]: Done 130 out of 137 | elapsed:   12.1s remaining:    0.7s\n",
      "[Parallel(n_jobs=-1)]: Done 137 out of 137 | elapsed:   12.7s finished\n",
      "[Parallel(n_jobs=-1)]: Using backend LokyBackend with 64 concurrent workers.\n",
      "[Parallel(n_jobs=-1)]: Done   8 tasks      | elapsed:    0.0s\n",
      "[Parallel(n_jobs=-1)]: Done 102 out of 137 | elapsed:    0.1s remaining:    0.0s\n",
      "[Parallel(n_jobs=-1)]: Done 130 out of 137 | elapsed:    0.1s remaining:    0.0s\n",
      "[Parallel(n_jobs=-1)]: Done 137 out of 137 | elapsed:    0.1s finished\n",
      "[Parallel(n_jobs=-1)]: Using backend LokyBackend with 64 concurrent workers.\n",
      "[Parallel(n_jobs=-1)]: Done   8 tasks      | elapsed:    0.1s\n",
      "[Parallel(n_jobs=-1)]: Done  92 out of 129 | elapsed:    0.6s remaining:    0.2s\n",
      "[Parallel(n_jobs=-1)]: Done 118 out of 129 | elapsed:    0.8s remaining:    0.1s\n",
      "[Parallel(n_jobs=-1)]: Done 129 out of 129 | elapsed:    0.8s finished\n"
     ]
    },
    {
     "name": "stdout",
     "output_type": "stream",
     "text": [
      "./Events/RC_252.xlsx\n",
      "(60, 128, 897)\n",
      " \n",
      "Subj 14:\n",
      "/data/sleep_germandata_reactivation-1/RC_142_sleep_20160705_112314.fif\n"
     ]
    },
    {
     "name": "stderr",
     "output_type": "stream",
     "text": [
      "[Parallel(n_jobs=-1)]: Using backend LokyBackend with 64 concurrent workers.\n",
      "[Parallel(n_jobs=-1)]: Done   8 tasks      | elapsed:    1.0s\n",
      "[Parallel(n_jobs=-1)]: Done 102 out of 137 | elapsed:   10.6s remaining:    3.6s\n",
      "[Parallel(n_jobs=-1)]: Done 130 out of 137 | elapsed:   13.3s remaining:    0.7s\n",
      "[Parallel(n_jobs=-1)]: Done 137 out of 137 | elapsed:   13.8s finished\n",
      "[Parallel(n_jobs=-1)]: Using backend LokyBackend with 64 concurrent workers.\n",
      "[Parallel(n_jobs=-1)]: Done   8 tasks      | elapsed:    0.4s\n",
      "[Parallel(n_jobs=-1)]: Done 102 out of 137 | elapsed:    4.3s remaining:    1.5s\n",
      "[Parallel(n_jobs=-1)]: Done 130 out of 137 | elapsed:    5.5s remaining:    0.3s\n",
      "[Parallel(n_jobs=-1)]: Done 137 out of 137 | elapsed:    5.8s finished\n",
      "[Parallel(n_jobs=-1)]: Using backend LokyBackend with 64 concurrent workers.\n",
      "[Parallel(n_jobs=-1)]: Done   8 tasks      | elapsed:    0.1s\n",
      "[Parallel(n_jobs=-1)]: Done  92 out of 129 | elapsed:    0.9s remaining:    0.3s\n",
      "[Parallel(n_jobs=-1)]: Done 118 out of 129 | elapsed:    1.1s remaining:    0.1s\n",
      "[Parallel(n_jobs=-1)]: Done 129 out of 129 | elapsed:    1.2s finished\n"
     ]
    },
    {
     "name": "stdout",
     "output_type": "stream",
     "text": [
      "./Events/RC_142.xlsx\n",
      "(42, 128, 897)\n",
      " \n",
      "Subj 39:\n",
      "/data/sleep_germandata_reactivation-1/RC_391_sleep_20170501_120806.fif\n"
     ]
    },
    {
     "name": "stderr",
     "output_type": "stream",
     "text": [
      "[Parallel(n_jobs=-1)]: Using backend LokyBackend with 64 concurrent workers.\n",
      "[Parallel(n_jobs=-1)]: Done   8 tasks      | elapsed:    0.9s\n",
      "[Parallel(n_jobs=-1)]: Done 102 out of 137 | elapsed:    9.7s remaining:    3.3s\n",
      "[Parallel(n_jobs=-1)]: Done 130 out of 137 | elapsed:   12.4s remaining:    0.7s\n",
      "[Parallel(n_jobs=-1)]: Done 137 out of 137 | elapsed:   13.0s finished\n",
      "[Parallel(n_jobs=-1)]: Using backend LokyBackend with 64 concurrent workers.\n",
      "[Parallel(n_jobs=-1)]: Done   8 tasks      | elapsed:    0.8s\n",
      "[Parallel(n_jobs=-1)]: Done 102 out of 137 | elapsed:    7.0s remaining:    2.4s\n",
      "[Parallel(n_jobs=-1)]: Done 130 out of 137 | elapsed:    8.9s remaining:    0.5s\n",
      "[Parallel(n_jobs=-1)]: Done 137 out of 137 | elapsed:    9.5s finished\n",
      "[Parallel(n_jobs=-1)]: Using backend LokyBackend with 64 concurrent workers.\n",
      "[Parallel(n_jobs=-1)]: Done   8 tasks      | elapsed:    0.1s\n",
      "[Parallel(n_jobs=-1)]: Done  92 out of 129 | elapsed:    0.9s remaining:    0.4s\n",
      "[Parallel(n_jobs=-1)]: Done 118 out of 129 | elapsed:    1.2s remaining:    0.1s\n",
      "[Parallel(n_jobs=-1)]: Done 129 out of 129 | elapsed:    1.3s finished\n"
     ]
    },
    {
     "name": "stdout",
     "output_type": "stream",
     "text": [
      "./Events/RC_391.xlsx\n",
      "(54, 128, 897)\n"
     ]
    }
   ],
   "source": [
    "#accM=defaultdict(dict)\n",
    "#f1M=defaultdict(dict)\n",
    "for s in subjs:\n",
    "    # M night\n",
    "    print(' ')\n",
    "    print(f\"Subj {s}:\")\n",
    "    for fM in fname_M:\n",
    "        if 'RC_'+s in fM:\n",
    "            file_M=fM\n",
    "            print(file_M)\n",
    "            # load EEG        \n",
    "            raw_data= mne.io.read_raw(file_M,preload=True,verbose=0)\n",
    "            raw_data=raw_data.resample(128,npad='auto',n_jobs=-1,verbose=0) # downsample\n",
    "            raw_data=raw_data.filter(l_freq=0.5, h_freq=4.5,n_jobs=-1,verbose=0) # band-pass filter for sleep spindles\n",
    "            eeg_data=raw_data.pick(picks=['eeg'])\n",
    "            eeg_df=eeg_data.to_data_frame(time_format='ms').iloc[:,:-1] # remove channel 129\n",
    "            # load Event file for file_M\n",
    "            events_fn=file_M.split('/')[-1].split('_')[1]\n",
    "            for ff in events_files:\n",
    "                if events_fn in ff:\n",
    "                    print(ff)\n",
    "                    events_info=pd.read_excel(ff,engine='openpyxl',usecols='A:M')\n",
    "            events_df=events_info[['sample','stimulation','Rejected']]\n",
    "            events_df=events_df[events_df['Rejected']==0]\n",
    "   \n",
    "            del raw_data\n",
    "            del eeg_data\n",
    "    \n",
    "            # match timing for EEG and events\n",
    "            events_df['time']=0\n",
    "            for e in events_df.index:\n",
    "                sample=events_df['sample'][e]\n",
    "                abs_diff=abs(eeg_df['time']-sample)\n",
    "                closest_row_index = abs_diff.idxmin()\n",
    "                events_df['time'][e]=eeg_df['time'][closest_row_index]\n",
    "    \n",
    "            # separate events into odor and vehicle\n",
    "            odor_df=events_df[events_df['stimulation']=='ODOR'].reset_index(drop=True)\n",
    "            veh_df=events_df[events_df['stimulation']=='VEHICLE'].reset_index(drop=True)\n",
    "            #print(len(odor_df))\n",
    "            #print(len(veh_df))\n",
    "    \n",
    "            # separate EEG epochs into odor and vehicle\n",
    "            eeg_odor_stim=[]\n",
    "            eeg_veh_stim=[]\n",
    "    \n",
    "            trial_no=min([len(odor_df),len(veh_df)])\n",
    "            for tt in range(trial_no):\n",
    "                odor_start=odor_df['time'][tt] #odor start\n",
    "                veh_start=veh_df['time'][tt] #vehicle start\n",
    "   \n",
    "                # EEG epoch for odor or vehicle\n",
    "                eeg_odor_df=eeg_df[(eeg_df['time']>=odor_start) & (eeg_df['time']<=(odor_start+7000))].iloc[:,1:].transpose()\n",
    "                eeg_veh_df=eeg_df[(eeg_df['time']>=veh_start) & (eeg_df['time']<=(veh_start+7000))].iloc[:,1:].transpose()\n",
    "        \n",
    "            # convert EEG dataframes into 3D arrays\n",
    "                eeg_odor=eeg_odor_df.to_numpy()[np.newaxis,:, :]\n",
    "                eeg_veh=eeg_veh_df.to_numpy()[np.newaxis,:, :]\n",
    "        \n",
    "            # concatenate EEG epochs/arrays\n",
    "                if tt==0:\n",
    "                    eeg_odor_stim=eeg_odor\n",
    "                    eeg_veh_stim=eeg_veh\n",
    "                elif tt>0:\n",
    "                    eeg_odor_stim=np.concatenate((eeg_odor_stim,eeg_odor), axis=0)\n",
    "                    eeg_veh_stim=np.concatenate((eeg_veh_stim,eeg_veh), axis=0)\n",
    "            XM=np.concatenate((eeg_veh_stim,eeg_odor_stim), axis=0)\n",
    "            print(XM.shape)\n",
    "            #XM_index=np.arange(0,XM.shape[0])\n",
    "            \n",
    "            #Ground truth\n",
    "            y_odor=np.ones(trial_no) # 1 is odor\n",
    "            y_veh=np.zeros(trial_no) # 0 is vehicle\n",
    "            y=np.concatenate((y_veh,y_odor))\n",
    "            y_encodedM=to_categorical(y-1,num_classes=2)\n",
    "            #print(y_encodedM.shape)\n",
    "            \n",
    "            # save EEG array for each subject\n",
    "            with open(folder+'XM_'+s+'.npy', 'wb') as f:\n",
    "                np.save(f, XM)\n",
    "    \n",
    "            with open(folder+'y_encodedM_'+s+'.npy', 'wb') as f:\n",
    "                np.save(f, y_encodedM)"
   ]
  },
  {
   "cell_type": "code",
   "execution_count": null,
   "id": "74cc215e",
   "metadata": {},
   "outputs": [],
   "source": []
  }
 ],
 "metadata": {
  "kernelspec": {
   "display_name": "Python 3 (ipykernel)",
   "language": "python",
   "name": "python3"
  },
  "language_info": {
   "codemirror_mode": {
    "name": "ipython",
    "version": 3
   },
   "file_extension": ".py",
   "mimetype": "text/x-python",
   "name": "python",
   "nbconvert_exporter": "python",
   "pygments_lexer": "ipython3",
   "version": "3.8.10"
  }
 },
 "nbformat": 4,
 "nbformat_minor": 5
}
